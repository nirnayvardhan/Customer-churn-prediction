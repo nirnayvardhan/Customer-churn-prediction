{
 "cells": [
  {
   "cell_type": "markdown",
   "id": "e1df3977",
   "metadata": {},
   "source": [
    "# E- Commerce Churn Prediction"
   ]
  },
  {
   "cell_type": "markdown",
   "id": "b8eaf55c",
   "metadata": {},
   "source": [
    "### Problem Statement\n",
    " - Customer churn has become a big issue because it costs a lot more to acquire a new customer than retaining existing ones.<br> With the use of a customer churn prediction model,  possible churners who are at high risk  can be identified, and as a result<br> Companies can take some action to prevent them from leaving."
   ]
  },
  {
   "cell_type": "markdown",
   "id": "f15674ff",
   "metadata": {},
   "source": [
    "#### Aim\n",
    "- To identify factors which are responsible for customer churn.\n",
    "- Prepare a model which can predict customers who are at high risk and whether a customer is going to churn or not."
   ]
  },
  {
   "cell_type": "markdown",
   "id": "94c86f98",
   "metadata": {},
   "source": [
    "#### Model we will use on this project \n",
    "- Logistics Regression because churn has only two class, 0 and 1.\n",
    "- Tree based method like  Decision Tree, Bagging and Boosting."
   ]
  },
  {
   "cell_type": "markdown",
   "id": "7596c8d1",
   "metadata": {},
   "source": [
    "Important points to focus\n",
    "- focus on to reduce false negative i.e increase True positive, as it is important to correctly predict possible churner.\n",
    "- will use Roc curve to determine the optimal threshold"
   ]
  },
  {
   "cell_type": "code",
   "execution_count": 1,
   "id": "ecb7f971",
   "metadata": {},
   "outputs": [],
   "source": [
    "import pandas as pd\n",
    "import numpy as np\n",
    "import seaborn as sns\n",
    "import matplotlib.pyplot as plt\n",
    "import scipy.stats as stats"
   ]
  },
  {
   "cell_type": "code",
   "execution_count": 2,
   "id": "941f1f5e",
   "metadata": {},
   "outputs": [],
   "source": [
    "df = pd.read_excel('E Commerce Dataset.xlsx',sheet_name = 1)\n",
    "pd.set_option('display.max_columns', None)"
   ]
  },
  {
   "cell_type": "markdown",
   "id": "c8600280",
   "metadata": {},
   "source": [
    "- order amount hike from last year (% increase)"
   ]
  },
  {
   "cell_type": "code",
   "execution_count": 3,
   "id": "5c7b2205",
   "metadata": {},
   "outputs": [
    {
     "data": {
      "text/html": [
       "<div>\n",
       "<style scoped>\n",
       "    .dataframe tbody tr th:only-of-type {\n",
       "        vertical-align: middle;\n",
       "    }\n",
       "\n",
       "    .dataframe tbody tr th {\n",
       "        vertical-align: top;\n",
       "    }\n",
       "\n",
       "    .dataframe thead th {\n",
       "        text-align: right;\n",
       "    }\n",
       "</style>\n",
       "<table border=\"1\" class=\"dataframe\">\n",
       "  <thead>\n",
       "    <tr style=\"text-align: right;\">\n",
       "      <th></th>\n",
       "      <th>CustomerID</th>\n",
       "      <th>Churn</th>\n",
       "      <th>Tenure</th>\n",
       "      <th>PreferredLoginDevice</th>\n",
       "      <th>CityTier</th>\n",
       "      <th>WarehouseToHome</th>\n",
       "      <th>PreferredPaymentMode</th>\n",
       "      <th>Gender</th>\n",
       "      <th>HourSpendOnApp</th>\n",
       "      <th>NumberOfDeviceRegistered</th>\n",
       "      <th>PreferedOrderCat</th>\n",
       "      <th>SatisfactionScore</th>\n",
       "      <th>MaritalStatus</th>\n",
       "      <th>NumberOfAddress</th>\n",
       "      <th>Complain</th>\n",
       "      <th>OrderAmountHikeFromlastYear</th>\n",
       "      <th>CouponUsed</th>\n",
       "      <th>OrderCount</th>\n",
       "      <th>DaySinceLastOrder</th>\n",
       "      <th>CashbackAmount</th>\n",
       "    </tr>\n",
       "  </thead>\n",
       "  <tbody>\n",
       "    <tr>\n",
       "      <th>0</th>\n",
       "      <td>50001</td>\n",
       "      <td>1</td>\n",
       "      <td>4.0</td>\n",
       "      <td>Mobile Phone</td>\n",
       "      <td>3</td>\n",
       "      <td>6.0</td>\n",
       "      <td>Debit Card</td>\n",
       "      <td>Female</td>\n",
       "      <td>3.0</td>\n",
       "      <td>3</td>\n",
       "      <td>Laptop &amp; Accessory</td>\n",
       "      <td>2</td>\n",
       "      <td>Single</td>\n",
       "      <td>9</td>\n",
       "      <td>1</td>\n",
       "      <td>11.0</td>\n",
       "      <td>1.0</td>\n",
       "      <td>1.0</td>\n",
       "      <td>5.0</td>\n",
       "      <td>159.93</td>\n",
       "    </tr>\n",
       "    <tr>\n",
       "      <th>1</th>\n",
       "      <td>50002</td>\n",
       "      <td>1</td>\n",
       "      <td>NaN</td>\n",
       "      <td>Phone</td>\n",
       "      <td>1</td>\n",
       "      <td>8.0</td>\n",
       "      <td>UPI</td>\n",
       "      <td>Male</td>\n",
       "      <td>3.0</td>\n",
       "      <td>4</td>\n",
       "      <td>Mobile</td>\n",
       "      <td>3</td>\n",
       "      <td>Single</td>\n",
       "      <td>7</td>\n",
       "      <td>1</td>\n",
       "      <td>15.0</td>\n",
       "      <td>0.0</td>\n",
       "      <td>1.0</td>\n",
       "      <td>0.0</td>\n",
       "      <td>120.90</td>\n",
       "    </tr>\n",
       "    <tr>\n",
       "      <th>2</th>\n",
       "      <td>50003</td>\n",
       "      <td>1</td>\n",
       "      <td>NaN</td>\n",
       "      <td>Phone</td>\n",
       "      <td>1</td>\n",
       "      <td>30.0</td>\n",
       "      <td>Debit Card</td>\n",
       "      <td>Male</td>\n",
       "      <td>2.0</td>\n",
       "      <td>4</td>\n",
       "      <td>Mobile</td>\n",
       "      <td>3</td>\n",
       "      <td>Single</td>\n",
       "      <td>6</td>\n",
       "      <td>1</td>\n",
       "      <td>14.0</td>\n",
       "      <td>0.0</td>\n",
       "      <td>1.0</td>\n",
       "      <td>3.0</td>\n",
       "      <td>120.28</td>\n",
       "    </tr>\n",
       "    <tr>\n",
       "      <th>3</th>\n",
       "      <td>50004</td>\n",
       "      <td>1</td>\n",
       "      <td>0.0</td>\n",
       "      <td>Phone</td>\n",
       "      <td>3</td>\n",
       "      <td>15.0</td>\n",
       "      <td>Debit Card</td>\n",
       "      <td>Male</td>\n",
       "      <td>2.0</td>\n",
       "      <td>4</td>\n",
       "      <td>Laptop &amp; Accessory</td>\n",
       "      <td>5</td>\n",
       "      <td>Single</td>\n",
       "      <td>8</td>\n",
       "      <td>0</td>\n",
       "      <td>23.0</td>\n",
       "      <td>0.0</td>\n",
       "      <td>1.0</td>\n",
       "      <td>3.0</td>\n",
       "      <td>134.07</td>\n",
       "    </tr>\n",
       "    <tr>\n",
       "      <th>4</th>\n",
       "      <td>50005</td>\n",
       "      <td>1</td>\n",
       "      <td>0.0</td>\n",
       "      <td>Phone</td>\n",
       "      <td>1</td>\n",
       "      <td>12.0</td>\n",
       "      <td>CC</td>\n",
       "      <td>Male</td>\n",
       "      <td>NaN</td>\n",
       "      <td>3</td>\n",
       "      <td>Mobile</td>\n",
       "      <td>5</td>\n",
       "      <td>Single</td>\n",
       "      <td>3</td>\n",
       "      <td>0</td>\n",
       "      <td>11.0</td>\n",
       "      <td>1.0</td>\n",
       "      <td>1.0</td>\n",
       "      <td>3.0</td>\n",
       "      <td>129.60</td>\n",
       "    </tr>\n",
       "    <tr>\n",
       "      <th>5</th>\n",
       "      <td>50006</td>\n",
       "      <td>1</td>\n",
       "      <td>0.0</td>\n",
       "      <td>Computer</td>\n",
       "      <td>1</td>\n",
       "      <td>22.0</td>\n",
       "      <td>Debit Card</td>\n",
       "      <td>Female</td>\n",
       "      <td>3.0</td>\n",
       "      <td>5</td>\n",
       "      <td>Mobile Phone</td>\n",
       "      <td>5</td>\n",
       "      <td>Single</td>\n",
       "      <td>2</td>\n",
       "      <td>1</td>\n",
       "      <td>22.0</td>\n",
       "      <td>4.0</td>\n",
       "      <td>6.0</td>\n",
       "      <td>7.0</td>\n",
       "      <td>139.19</td>\n",
       "    </tr>\n",
       "    <tr>\n",
       "      <th>6</th>\n",
       "      <td>50007</td>\n",
       "      <td>1</td>\n",
       "      <td>NaN</td>\n",
       "      <td>Phone</td>\n",
       "      <td>3</td>\n",
       "      <td>11.0</td>\n",
       "      <td>Cash on Delivery</td>\n",
       "      <td>Male</td>\n",
       "      <td>2.0</td>\n",
       "      <td>3</td>\n",
       "      <td>Laptop &amp; Accessory</td>\n",
       "      <td>2</td>\n",
       "      <td>Divorced</td>\n",
       "      <td>4</td>\n",
       "      <td>0</td>\n",
       "      <td>14.0</td>\n",
       "      <td>0.0</td>\n",
       "      <td>1.0</td>\n",
       "      <td>0.0</td>\n",
       "      <td>120.86</td>\n",
       "    </tr>\n",
       "    <tr>\n",
       "      <th>7</th>\n",
       "      <td>50008</td>\n",
       "      <td>1</td>\n",
       "      <td>NaN</td>\n",
       "      <td>Phone</td>\n",
       "      <td>1</td>\n",
       "      <td>6.0</td>\n",
       "      <td>CC</td>\n",
       "      <td>Male</td>\n",
       "      <td>3.0</td>\n",
       "      <td>3</td>\n",
       "      <td>Mobile</td>\n",
       "      <td>2</td>\n",
       "      <td>Divorced</td>\n",
       "      <td>3</td>\n",
       "      <td>1</td>\n",
       "      <td>16.0</td>\n",
       "      <td>2.0</td>\n",
       "      <td>2.0</td>\n",
       "      <td>0.0</td>\n",
       "      <td>122.93</td>\n",
       "    </tr>\n",
       "    <tr>\n",
       "      <th>8</th>\n",
       "      <td>50009</td>\n",
       "      <td>1</td>\n",
       "      <td>13.0</td>\n",
       "      <td>Phone</td>\n",
       "      <td>3</td>\n",
       "      <td>9.0</td>\n",
       "      <td>E wallet</td>\n",
       "      <td>Male</td>\n",
       "      <td>NaN</td>\n",
       "      <td>4</td>\n",
       "      <td>Mobile</td>\n",
       "      <td>3</td>\n",
       "      <td>Divorced</td>\n",
       "      <td>2</td>\n",
       "      <td>1</td>\n",
       "      <td>14.0</td>\n",
       "      <td>0.0</td>\n",
       "      <td>1.0</td>\n",
       "      <td>2.0</td>\n",
       "      <td>126.83</td>\n",
       "    </tr>\n",
       "    <tr>\n",
       "      <th>9</th>\n",
       "      <td>50010</td>\n",
       "      <td>1</td>\n",
       "      <td>NaN</td>\n",
       "      <td>Phone</td>\n",
       "      <td>1</td>\n",
       "      <td>31.0</td>\n",
       "      <td>Debit Card</td>\n",
       "      <td>Male</td>\n",
       "      <td>2.0</td>\n",
       "      <td>5</td>\n",
       "      <td>Mobile</td>\n",
       "      <td>3</td>\n",
       "      <td>Single</td>\n",
       "      <td>2</td>\n",
       "      <td>0</td>\n",
       "      <td>12.0</td>\n",
       "      <td>1.0</td>\n",
       "      <td>1.0</td>\n",
       "      <td>1.0</td>\n",
       "      <td>122.93</td>\n",
       "    </tr>\n",
       "  </tbody>\n",
       "</table>\n",
       "</div>"
      ],
      "text/plain": [
       "   CustomerID  Churn  Tenure PreferredLoginDevice  CityTier  WarehouseToHome  \\\n",
       "0       50001      1     4.0         Mobile Phone         3              6.0   \n",
       "1       50002      1     NaN                Phone         1              8.0   \n",
       "2       50003      1     NaN                Phone         1             30.0   \n",
       "3       50004      1     0.0                Phone         3             15.0   \n",
       "4       50005      1     0.0                Phone         1             12.0   \n",
       "5       50006      1     0.0             Computer         1             22.0   \n",
       "6       50007      1     NaN                Phone         3             11.0   \n",
       "7       50008      1     NaN                Phone         1              6.0   \n",
       "8       50009      1    13.0                Phone         3              9.0   \n",
       "9       50010      1     NaN                Phone         1             31.0   \n",
       "\n",
       "  PreferredPaymentMode  Gender  HourSpendOnApp  NumberOfDeviceRegistered  \\\n",
       "0           Debit Card  Female             3.0                         3   \n",
       "1                  UPI    Male             3.0                         4   \n",
       "2           Debit Card    Male             2.0                         4   \n",
       "3           Debit Card    Male             2.0                         4   \n",
       "4                   CC    Male             NaN                         3   \n",
       "5           Debit Card  Female             3.0                         5   \n",
       "6     Cash on Delivery    Male             2.0                         3   \n",
       "7                   CC    Male             3.0                         3   \n",
       "8             E wallet    Male             NaN                         4   \n",
       "9           Debit Card    Male             2.0                         5   \n",
       "\n",
       "     PreferedOrderCat  SatisfactionScore MaritalStatus  NumberOfAddress  \\\n",
       "0  Laptop & Accessory                  2        Single                9   \n",
       "1              Mobile                  3        Single                7   \n",
       "2              Mobile                  3        Single                6   \n",
       "3  Laptop & Accessory                  5        Single                8   \n",
       "4              Mobile                  5        Single                3   \n",
       "5        Mobile Phone                  5        Single                2   \n",
       "6  Laptop & Accessory                  2      Divorced                4   \n",
       "7              Mobile                  2      Divorced                3   \n",
       "8              Mobile                  3      Divorced                2   \n",
       "9              Mobile                  3        Single                2   \n",
       "\n",
       "   Complain  OrderAmountHikeFromlastYear  CouponUsed  OrderCount  \\\n",
       "0         1                         11.0         1.0         1.0   \n",
       "1         1                         15.0         0.0         1.0   \n",
       "2         1                         14.0         0.0         1.0   \n",
       "3         0                         23.0         0.0         1.0   \n",
       "4         0                         11.0         1.0         1.0   \n",
       "5         1                         22.0         4.0         6.0   \n",
       "6         0                         14.0         0.0         1.0   \n",
       "7         1                         16.0         2.0         2.0   \n",
       "8         1                         14.0         0.0         1.0   \n",
       "9         0                         12.0         1.0         1.0   \n",
       "\n",
       "   DaySinceLastOrder  CashbackAmount  \n",
       "0                5.0          159.93  \n",
       "1                0.0          120.90  \n",
       "2                3.0          120.28  \n",
       "3                3.0          134.07  \n",
       "4                3.0          129.60  \n",
       "5                7.0          139.19  \n",
       "6                0.0          120.86  \n",
       "7                0.0          122.93  \n",
       "8                2.0          126.83  \n",
       "9                1.0          122.93  "
      ]
     },
     "execution_count": 3,
     "metadata": {},
     "output_type": "execute_result"
    }
   ],
   "source": [
    "df.head(10)"
   ]
  },
  {
   "cell_type": "markdown",
   "id": "0b12984f",
   "metadata": {},
   "source": [
    "&nbsp;"
   ]
  },
  {
   "cell_type": "markdown",
   "id": "58c99336",
   "metadata": {},
   "source": [
    "# Data Exploration\n",
    "***"
   ]
  },
  {
   "cell_type": "code",
   "execution_count": 4,
   "id": "18b3efc0",
   "metadata": {},
   "outputs": [
    {
     "data": {
      "text/plain": [
       "(5630, 20)"
      ]
     },
     "execution_count": 4,
     "metadata": {},
     "output_type": "execute_result"
    }
   ],
   "source": [
    "df.shape "
   ]
  },
  {
   "cell_type": "code",
   "execution_count": 5,
   "id": "7369cf87",
   "metadata": {},
   "outputs": [
    {
     "name": "stdout",
     "output_type": "stream",
     "text": [
      "CustomerID\n",
      "Churn\n",
      "Tenure\n",
      "PreferredLoginDevice\n",
      "CityTier\n",
      "WarehouseToHome\n",
      "PreferredPaymentMode\n",
      "Gender\n",
      "HourSpendOnApp\n",
      "NumberOfDeviceRegistered\n",
      "PreferedOrderCat\n",
      "SatisfactionScore\n",
      "MaritalStatus\n",
      "NumberOfAddress\n",
      "Complain\n",
      "OrderAmountHikeFromlastYear\n",
      "CouponUsed\n",
      "OrderCount\n",
      "DaySinceLastOrder\n",
      "CashbackAmount\n"
     ]
    }
   ],
   "source": [
    "for i in df.columns:\n",
    "    print(i)"
   ]
  },
  {
   "cell_type": "markdown",
   "id": "44cac10a",
   "metadata": {},
   "source": [
    "### Assumption \n",
    "- __Tenure is in month.__\n",
    "- __Ware House to Home is in km.__"
   ]
  },
  {
   "cell_type": "code",
   "execution_count": 6,
   "id": "fc316d62",
   "metadata": {
    "scrolled": false
   },
   "outputs": [
    {
     "data": {
      "text/plain": [
       "CustomerID                       0\n",
       "Churn                            0\n",
       "Tenure                         264\n",
       "PreferredLoginDevice             0\n",
       "CityTier                         0\n",
       "WarehouseToHome                251\n",
       "PreferredPaymentMode             0\n",
       "Gender                           0\n",
       "HourSpendOnApp                 255\n",
       "NumberOfDeviceRegistered         0\n",
       "PreferedOrderCat                 0\n",
       "SatisfactionScore                0\n",
       "MaritalStatus                    0\n",
       "NumberOfAddress                  0\n",
       "Complain                         0\n",
       "OrderAmountHikeFromlastYear    265\n",
       "CouponUsed                     256\n",
       "OrderCount                     258\n",
       "DaySinceLastOrder              307\n",
       "CashbackAmount                   0\n",
       "dtype: int64"
      ]
     },
     "execution_count": 6,
     "metadata": {},
     "output_type": "execute_result"
    }
   ],
   "source": [
    "df.isnull().sum()"
   ]
  },
  {
   "cell_type": "code",
   "execution_count": 7,
   "id": "4d232d2b",
   "metadata": {},
   "outputs": [
    {
     "name": "stdout",
     "output_type": "stream",
     "text": [
      "PreferredLoginDevice\n",
      "\n",
      "the values are:\n",
      "Mobile Phone    2765\n",
      "Computer        1634\n",
      "Phone           1231\n",
      "Name: PreferredLoginDevice, dtype: int64\n",
      "\n",
      "\n",
      "PreferredPaymentMode\n",
      "\n",
      "the values are:\n",
      "Debit Card          2314\n",
      "Credit Card         1501\n",
      "E wallet             614\n",
      "UPI                  414\n",
      "COD                  365\n",
      "CC                   273\n",
      "Cash on Delivery     149\n",
      "Name: PreferredPaymentMode, dtype: int64\n",
      "\n",
      "\n",
      "Gender\n",
      "\n",
      "the values are:\n",
      "Male      3384\n",
      "Female    2246\n",
      "Name: Gender, dtype: int64\n",
      "\n",
      "\n",
      "PreferedOrderCat\n",
      "\n",
      "the values are:\n",
      "Laptop & Accessory    2050\n",
      "Mobile Phone          1271\n",
      "Fashion                826\n",
      "Mobile                 809\n",
      "Grocery                410\n",
      "Others                 264\n",
      "Name: PreferedOrderCat, dtype: int64\n",
      "\n",
      "\n",
      "MaritalStatus\n",
      "\n",
      "the values are:\n",
      "Married     2986\n",
      "Single      1796\n",
      "Divorced     848\n",
      "Name: MaritalStatus, dtype: int64\n",
      "\n",
      "\n"
     ]
    }
   ],
   "source": [
    "\n",
    "for i in df.columns:\n",
    "    if df[i].dtype == \"object\":\n",
    "        print(i)\n",
    "        print()\n",
    "        print('the values are:') \n",
    "        print(df[i].value_counts())\n",
    "        print()\n",
    "        print()"
   ]
  },
  {
   "cell_type": "code",
   "execution_count": 8,
   "id": "b03280f9",
   "metadata": {},
   "outputs": [
    {
     "name": "stdout",
     "output_type": "stream",
     "text": [
      "<class 'pandas.core.frame.DataFrame'>\n",
      "RangeIndex: 5630 entries, 0 to 5629\n",
      "Data columns (total 20 columns):\n",
      " #   Column                       Non-Null Count  Dtype  \n",
      "---  ------                       --------------  -----  \n",
      " 0   CustomerID                   5630 non-null   int64  \n",
      " 1   Churn                        5630 non-null   int64  \n",
      " 2   Tenure                       5366 non-null   float64\n",
      " 3   PreferredLoginDevice         5630 non-null   object \n",
      " 4   CityTier                     5630 non-null   int64  \n",
      " 5   WarehouseToHome              5379 non-null   float64\n",
      " 6   PreferredPaymentMode         5630 non-null   object \n",
      " 7   Gender                       5630 non-null   object \n",
      " 8   HourSpendOnApp               5375 non-null   float64\n",
      " 9   NumberOfDeviceRegistered     5630 non-null   int64  \n",
      " 10  PreferedOrderCat             5630 non-null   object \n",
      " 11  SatisfactionScore            5630 non-null   int64  \n",
      " 12  MaritalStatus                5630 non-null   object \n",
      " 13  NumberOfAddress              5630 non-null   int64  \n",
      " 14  Complain                     5630 non-null   int64  \n",
      " 15  OrderAmountHikeFromlastYear  5365 non-null   float64\n",
      " 16  CouponUsed                   5374 non-null   float64\n",
      " 17  OrderCount                   5372 non-null   float64\n",
      " 18  DaySinceLastOrder            5323 non-null   float64\n",
      " 19  CashbackAmount               5630 non-null   float64\n",
      "dtypes: float64(8), int64(7), object(5)\n",
      "memory usage: 879.8+ KB\n"
     ]
    }
   ],
   "source": [
    "df.info()"
   ]
  },
  {
   "cell_type": "code",
   "execution_count": 9,
   "id": "924d61b4",
   "metadata": {
    "scrolled": true
   },
   "outputs": [
    {
     "name": "stderr",
     "output_type": "stream",
     "text": [
      "C:\\Users\\ASUS\\anaconda3\\lib\\site-packages\\seaborn\\_decorators.py:36: FutureWarning: Pass the following variable as a keyword arg: x. From version 0.12, the only valid positional argument will be `data`, and passing other arguments without an explicit keyword will result in an error or misinterpretation.\n",
      "  warnings.warn(\n"
     ]
    },
    {
     "data": {
      "text/plain": [
       "<AxesSubplot:xlabel='Churn', ylabel='count'>"
      ]
     },
     "execution_count": 9,
     "metadata": {},
     "output_type": "execute_result"
    },
    {
     "data": {
      "image/png": "[encoded data removed]",
      "text/plain": [
       "<Figure size 720x360 with 1 Axes>"
      ]
     },
     "metadata": {},
     "output_type": "display_data"
    }
   ],
   "source": [
    "sns.set(rc={'figure.figsize':(10,5)})\n",
    "sns.countplot('Churn', data = df)"
   ]
  },
  {
   "cell_type": "markdown",
   "id": "2d44bce4",
   "metadata": {},
   "source": [
    "## Similar Category in columns\n",
    "********\n",
    "- __In prefered login device, Mobile phone and phone are same.__\n",
    "- __In preferd Payment mode, cc and credit card , cod and cash on delivery are same.__\n",
    "- __In prefered order category, mobile phone and mobile are same.__\n",
    "\n",
    "\n",
    "\n",
    "## Missing values (almost 4-5 % missing values in each of the below columns)\n",
    "*******\n",
    "- Tenure  __dtype - float__\n",
    "- Warehouse to home  __dtype - float__\n",
    "- Hour Spend On App   __dtype - float__\n",
    "- Order Amount Hike From Last Year   __dtype - float__\n",
    "- Coupon Used   __dtype - float__\n",
    "- Order Count   __dtype - float__\n",
    "- Day Since Last order    __dtype - float__\n"
   ]
  },
  {
   "cell_type": "markdown",
   "id": "a170004b",
   "metadata": {},
   "source": [
    "&nbsp;"
   ]
  },
  {
   "cell_type": "markdown",
   "id": "702ee094",
   "metadata": {},
   "source": [
    "&nbsp;"
   ]
  },
  {
   "cell_type": "markdown",
   "id": "882ff289",
   "metadata": {},
   "source": [
    "## Treating similar category "
   ]
  },
  {
   "cell_type": "code",
   "execution_count": 10,
   "id": "eac28540",
   "metadata": {},
   "outputs": [],
   "source": [
    "df[\"PreferredLoginDevice\"] = df.PreferredLoginDevice.replace(to_replace = \"Phone\", value = \"Mobile Phone\")"
   ]
  },
  {
   "cell_type": "code",
   "execution_count": 11,
   "id": "afd6dae1",
   "metadata": {},
   "outputs": [],
   "source": [
    "df[\"PreferredPaymentMode\"] = df.PreferredPaymentMode.replace(to_replace = [\"Cash on Delivery\",\"CC\"], value = [\"COD\", \"Credit Card\"])"
   ]
  },
  {
   "cell_type": "code",
   "execution_count": 12,
   "id": "8ac8808f",
   "metadata": {},
   "outputs": [],
   "source": [
    "df[\"PreferedOrderCat\"] = df.PreferedOrderCat.replace(to_replace = \"Mobile\", value = \"Mobile Phone\")"
   ]
  },
  {
   "cell_type": "code",
   "execution_count": 13,
   "id": "d87dd706",
   "metadata": {},
   "outputs": [
    {
     "name": "stdout",
     "output_type": "stream",
     "text": [
      "PreferredLoginDevice\n",
      "\n",
      "the values are:\n",
      "Mobile Phone    3996\n",
      "Computer        1634\n",
      "Name: PreferredLoginDevice, dtype: int64\n",
      "\n",
      "\n",
      "PreferredPaymentMode\n",
      "\n",
      "the values are:\n",
      "Debit Card     2314\n",
      "Credit Card    1774\n",
      "E wallet        614\n",
      "COD             514\n",
      "UPI             414\n",
      "Name: PreferredPaymentMode, dtype: int64\n",
      "\n",
      "\n",
      "Gender\n",
      "\n",
      "the values are:\n",
      "Male      3384\n",
      "Female    2246\n",
      "Name: Gender, dtype: int64\n",
      "\n",
      "\n",
      "PreferedOrderCat\n",
      "\n",
      "the values are:\n",
      "Mobile Phone          2080\n",
      "Laptop & Accessory    2050\n",
      "Fashion                826\n",
      "Grocery                410\n",
      "Others                 264\n",
      "Name: PreferedOrderCat, dtype: int64\n",
      "\n",
      "\n",
      "MaritalStatus\n",
      "\n",
      "the values are:\n",
      "Married     2986\n",
      "Single      1796\n",
      "Divorced     848\n",
      "Name: MaritalStatus, dtype: int64\n",
      "\n",
      "\n"
     ]
    }
   ],
   "source": [
    "for i in df.columns:\n",
    "    if df[i].dtype == \"object\":\n",
    "        print(i)\n",
    "        print()\n",
    "        print('the values are:') \n",
    "        print(df[i].value_counts())\n",
    "        print()\n",
    "        print()"
   ]
  },
  {
   "cell_type": "code",
   "execution_count": 14,
   "id": "2ebdc268",
   "metadata": {},
   "outputs": [
    {
     "data": {
      "text/plain": [
       "<AxesSubplot:>"
      ]
     },
     "execution_count": 14,
     "metadata": {},
     "output_type": "execute_result"
    },
    {
     "data": {
      "image/png": "[encoded data removed]",
      "text/plain": [
       "<Figure size 720x360 with 2 Axes>"
      ]
     },
     "metadata": {},
     "output_type": "display_data"
    }
   ],
   "source": [
    "sns.heatmap(df.corr(), annot = True)"
   ]
  },
  {
   "cell_type": "code",
   "execution_count": 15,
   "id": "f1eb7748",
   "metadata": {},
   "outputs": [
    {
     "name": "stderr",
     "output_type": "stream",
     "text": [
      "C:\\Users\\ASUS\\anaconda3\\lib\\site-packages\\seaborn\\_decorators.py:36: FutureWarning: Pass the following variable as a keyword arg: x. From version 0.12, the only valid positional argument will be `data`, and passing other arguments without an explicit keyword will result in an error or misinterpretation.\n",
      "  warnings.warn(\n"
     ]
    },
    {
     "data": {
      "text/plain": [
       "<AxesSubplot:xlabel='WarehouseToHome', ylabel='count'>"
      ]
     },
     "execution_count": 15,
     "metadata": {},
     "output_type": "execute_result"
    },
    {
     "data": {
      "image/png": "[encoded data removed]",
      "text/plain": [
       "<Figure size 1440x576 with 1 Axes>"
      ]
     },
     "metadata": {},
     "output_type": "display_data"
    }
   ],
   "source": [
    "sns.set(rc={'figure.figsize':(20,8)})\n",
    "sns.countplot('WarehouseToHome',data = df, hue = 'Churn')"
   ]
  },
  {
   "cell_type": "markdown",
   "id": "476580e0",
   "metadata": {},
   "source": [
    "#### More than 70% of the deliveries are made at a distance of less than equals to 18kms  between warehouse and homes."
   ]
  },
  {
   "cell_type": "markdown",
   "id": "0f9a8f0d",
   "metadata": {},
   "source": [
    "&nbsp;"
   ]
  },
  {
   "cell_type": "code",
   "execution_count": 16,
   "id": "7b6f1f8e",
   "metadata": {},
   "outputs": [
    {
     "data": {
      "text/plain": [
       "(1492, 20)"
      ]
     },
     "execution_count": 16,
     "metadata": {},
     "output_type": "execute_result"
    }
   ],
   "source": [
    "df[df['WarehouseToHome']>18.0].shape"
   ]
  },
  {
   "cell_type": "code",
   "execution_count": 17,
   "id": "1d617c92",
   "metadata": {},
   "outputs": [
    {
     "name": "stderr",
     "output_type": "stream",
     "text": [
      "C:\\Users\\ASUS\\anaconda3\\lib\\site-packages\\seaborn\\_decorators.py:36: FutureWarning: Pass the following variable as a keyword arg: x. From version 0.12, the only valid positional argument will be `data`, and passing other arguments without an explicit keyword will result in an error or misinterpretation.\n",
      "  warnings.warn(\n"
     ]
    },
    {
     "data": {
      "text/plain": [
       "<AxesSubplot:xlabel='Tenure', ylabel='count'>"
      ]
     },
     "execution_count": 17,
     "metadata": {},
     "output_type": "execute_result"
    },
    {
     "data": {
      "image/png": "[encoded data removed]",
      "text/plain": [
       "<Figure size 1440x576 with 1 Axes>"
      ]
     },
     "metadata": {},
     "output_type": "display_data"
    }
   ],
   "source": [
    "sns.countplot('Tenure', hue = 'Churn',data=df)"
   ]
  },
  {
   "cell_type": "markdown",
   "id": "e2ebf025",
   "metadata": {},
   "source": [
    "#### It shows that newbies are churning the most.so company should focus more on new customers for atleat 2 month because they churn within 2 months as compared to old ones.\n",
    "#### old customers whose tenure are more than 21 months are not churning that shows their loyalty.\n",
    "#### new customers are more as compared to old ones i.e loyal ones.\n",
    "\n"
   ]
  },
  {
   "cell_type": "markdown",
   "id": "c285a61f",
   "metadata": {},
   "source": [
    "&nbsp;"
   ]
  },
  {
   "cell_type": "code",
   "execution_count": 18,
   "id": "a78c8b48",
   "metadata": {},
   "outputs": [
    {
     "name": "stderr",
     "output_type": "stream",
     "text": [
      "C:\\Users\\ASUS\\anaconda3\\lib\\site-packages\\seaborn\\_decorators.py:36: FutureWarning: Pass the following variable as a keyword arg: x. From version 0.12, the only valid positional argument will be `data`, and passing other arguments without an explicit keyword will result in an error or misinterpretation.\n",
      "  warnings.warn(\n"
     ]
    },
    {
     "data": {
      "text/plain": [
       "<AxesSubplot:xlabel='Gender', ylabel='count'>"
      ]
     },
     "execution_count": 18,
     "metadata": {},
     "output_type": "execute_result"
    },
    {
     "data": {
      "image/png": "[encoded data removed]",
      "text/plain": [
       "<Figure size 1440x576 with 1 Axes>"
      ]
     },
     "metadata": {},
     "output_type": "display_data"
    }
   ],
   "source": [
    "sns.countplot('Gender', hue = 'Churn',data=df)"
   ]
  },
  {
   "cell_type": "code",
   "execution_count": 19,
   "id": "4a4f236d",
   "metadata": {},
   "outputs": [
    {
     "data": {
      "text/plain": [
       "Gender  Churn\n",
       "Female  0        1898\n",
       "        1         348\n",
       "Male    0        2784\n",
       "        1         600\n",
       "dtype: int64"
      ]
     },
     "execution_count": 19,
     "metadata": {},
     "output_type": "execute_result"
    }
   ],
   "source": [
    "df.groupby(['Gender','Churn']).size()"
   ]
  },
  {
   "cell_type": "markdown",
   "id": "c7991cfd",
   "metadata": {},
   "source": [
    "#### 15.5 % women churn\n",
    "#### 17.7% male churn"
   ]
  },
  {
   "cell_type": "markdown",
   "id": "37a17f42",
   "metadata": {},
   "source": [
    "&nbsp;"
   ]
  },
  {
   "cell_type": "code",
   "execution_count": 20,
   "id": "e2320ef4",
   "metadata": {},
   "outputs": [
    {
     "data": {
      "text/html": [
       "<div>\n",
       "<style scoped>\n",
       "    .dataframe tbody tr th:only-of-type {\n",
       "        vertical-align: middle;\n",
       "    }\n",
       "\n",
       "    .dataframe tbody tr th {\n",
       "        vertical-align: top;\n",
       "    }\n",
       "\n",
       "    .dataframe thead th {\n",
       "        text-align: right;\n",
       "    }\n",
       "</style>\n",
       "<table border=\"1\" class=\"dataframe\">\n",
       "  <thead>\n",
       "    <tr style=\"text-align: right;\">\n",
       "      <th></th>\n",
       "      <th>CityTier</th>\n",
       "      <th>Count</th>\n",
       "    </tr>\n",
       "  </thead>\n",
       "  <tbody>\n",
       "    <tr>\n",
       "      <th>0</th>\n",
       "      <td>1</td>\n",
       "      <td>3666</td>\n",
       "    </tr>\n",
       "    <tr>\n",
       "      <th>1</th>\n",
       "      <td>2</td>\n",
       "      <td>242</td>\n",
       "    </tr>\n",
       "    <tr>\n",
       "      <th>2</th>\n",
       "      <td>3</td>\n",
       "      <td>1722</td>\n",
       "    </tr>\n",
       "  </tbody>\n",
       "</table>\n",
       "</div>"
      ],
      "text/plain": [
       "   CityTier  Count\n",
       "0         1   3666\n",
       "1         2    242\n",
       "2         3   1722"
      ]
     },
     "execution_count": 20,
     "metadata": {},
     "output_type": "execute_result"
    }
   ],
   "source": [
    "ab = df.groupby('CityTier').size().reset_index().rename(columns={0:'Count'})\n",
    "ab"
   ]
  },
  {
   "cell_type": "code",
   "execution_count": 21,
   "id": "31ea6593",
   "metadata": {},
   "outputs": [],
   "source": [
    "ab['Percent'] = (ab['Count']/ab['Count'].sum())*100"
   ]
  },
  {
   "cell_type": "code",
   "execution_count": 22,
   "id": "3e5ec6f9",
   "metadata": {},
   "outputs": [
    {
     "data": {
      "text/html": [
       "<div>\n",
       "<style scoped>\n",
       "    .dataframe tbody tr th:only-of-type {\n",
       "        vertical-align: middle;\n",
       "    }\n",
       "\n",
       "    .dataframe tbody tr th {\n",
       "        vertical-align: top;\n",
       "    }\n",
       "\n",
       "    .dataframe thead th {\n",
       "        text-align: right;\n",
       "    }\n",
       "</style>\n",
       "<table border=\"1\" class=\"dataframe\">\n",
       "  <thead>\n",
       "    <tr style=\"text-align: right;\">\n",
       "      <th></th>\n",
       "      <th>CityTier</th>\n",
       "      <th>Count</th>\n",
       "      <th>Percent</th>\n",
       "    </tr>\n",
       "  </thead>\n",
       "  <tbody>\n",
       "    <tr>\n",
       "      <th>0</th>\n",
       "      <td>1</td>\n",
       "      <td>3666</td>\n",
       "      <td>65.115453</td>\n",
       "    </tr>\n",
       "    <tr>\n",
       "      <th>1</th>\n",
       "      <td>2</td>\n",
       "      <td>242</td>\n",
       "      <td>4.298401</td>\n",
       "    </tr>\n",
       "    <tr>\n",
       "      <th>2</th>\n",
       "      <td>3</td>\n",
       "      <td>1722</td>\n",
       "      <td>30.586146</td>\n",
       "    </tr>\n",
       "  </tbody>\n",
       "</table>\n",
       "</div>"
      ],
      "text/plain": [
       "   CityTier  Count    Percent\n",
       "0         1   3666  65.115453\n",
       "1         2    242   4.298401\n",
       "2         3   1722  30.586146"
      ]
     },
     "execution_count": 22,
     "metadata": {},
     "output_type": "execute_result"
    }
   ],
   "source": [
    "ab"
   ]
  },
  {
   "cell_type": "code",
   "execution_count": 23,
   "id": "e1527aa5",
   "metadata": {
    "scrolled": false
   },
   "outputs": [
    {
     "name": "stderr",
     "output_type": "stream",
     "text": [
      "C:\\Users\\ASUS\\anaconda3\\lib\\site-packages\\seaborn\\_decorators.py:36: FutureWarning: Pass the following variable as a keyword arg: x. From version 0.12, the only valid positional argument will be `data`, and passing other arguments without an explicit keyword will result in an error or misinterpretation.\n",
      "  warnings.warn(\n"
     ]
    },
    {
     "data": {
      "text/plain": [
       "<AxesSubplot:xlabel='Tenure', ylabel='count'>"
      ]
     },
     "execution_count": 23,
     "metadata": {},
     "output_type": "execute_result"
    },
    {
     "data": {
      "image/png": "[encoded data removed]",
      "text/plain": [
       "<Figure size 1440x576 with 1 Axes>"
      ]
     },
     "metadata": {},
     "output_type": "display_data"
    }
   ],
   "source": [
    "sns.countplot('Tenure', hue = 'CityTier', data = df)"
   ]
  },
  {
   "cell_type": "markdown",
   "id": "2cd1f996",
   "metadata": {},
   "source": [
    "&nbsp;"
   ]
  },
  {
   "cell_type": "code",
   "execution_count": 24,
   "id": "0b67b088",
   "metadata": {},
   "outputs": [
    {
     "name": "stderr",
     "output_type": "stream",
     "text": [
      "C:\\Users\\ASUS\\anaconda3\\lib\\site-packages\\seaborn\\_decorators.py:36: FutureWarning: Pass the following variable as a keyword arg: x. From version 0.12, the only valid positional argument will be `data`, and passing other arguments without an explicit keyword will result in an error or misinterpretation.\n",
      "  warnings.warn(\n"
     ]
    },
    {
     "data": {
      "text/plain": [
       "<AxesSubplot:xlabel='OrderCount', ylabel='count'>"
      ]
     },
     "execution_count": 24,
     "metadata": {},
     "output_type": "execute_result"
    },
    {
     "data": {
      "image/png": "[encoded data removed]",
      "text/plain": [
       "<Figure size 1440x576 with 1 Axes>"
      ]
     },
     "metadata": {},
     "output_type": "display_data"
    }
   ],
   "source": [
    "sns.countplot('OrderCount', hue = 'CityTier', data = df)"
   ]
  },
  {
   "cell_type": "markdown",
   "id": "b1332e34",
   "metadata": {},
   "source": [
    "#### Most of the Traffic on the website is from Tier 1 cities followed by Tier 3 and Tier 2(very less)"
   ]
  },
  {
   "cell_type": "markdown",
   "id": "6e9f8e26",
   "metadata": {},
   "source": [
    "&nbsp;"
   ]
  },
  {
   "cell_type": "code",
   "execution_count": 25,
   "id": "caa47b28",
   "metadata": {},
   "outputs": [
    {
     "name": "stderr",
     "output_type": "stream",
     "text": [
      "C:\\Users\\ASUS\\anaconda3\\lib\\site-packages\\seaborn\\_decorators.py:36: FutureWarning: Pass the following variable as a keyword arg: x. From version 0.12, the only valid positional argument will be `data`, and passing other arguments without an explicit keyword will result in an error or misinterpretation.\n",
      "  warnings.warn(\n"
     ]
    },
    {
     "data": {
      "text/plain": [
       "<AxesSubplot:xlabel='CityTier', ylabel='count'>"
      ]
     },
     "execution_count": 25,
     "metadata": {},
     "output_type": "execute_result"
    },
    {
     "data": {
      "image/png": "[encoded data removed]",
      "text/plain": [
       "<Figure size 1440x576 with 1 Axes>"
      ]
     },
     "metadata": {},
     "output_type": "display_data"
    }
   ],
   "source": [
    "sns.countplot('CityTier', hue = 'Churn', data = df)"
   ]
  },
  {
   "cell_type": "code",
   "execution_count": 26,
   "id": "f39a1c11",
   "metadata": {},
   "outputs": [
    {
     "data": {
      "text/html": [
       "<div>\n",
       "<style scoped>\n",
       "    .dataframe tbody tr th:only-of-type {\n",
       "        vertical-align: middle;\n",
       "    }\n",
       "\n",
       "    .dataframe tbody tr th {\n",
       "        vertical-align: top;\n",
       "    }\n",
       "\n",
       "    .dataframe thead th {\n",
       "        text-align: right;\n",
       "    }\n",
       "</style>\n",
       "<table border=\"1\" class=\"dataframe\">\n",
       "  <thead>\n",
       "    <tr style=\"text-align: right;\">\n",
       "      <th></th>\n",
       "      <th>CityTier</th>\n",
       "      <th>Churn</th>\n",
       "      <th>0</th>\n",
       "    </tr>\n",
       "  </thead>\n",
       "  <tbody>\n",
       "    <tr>\n",
       "      <th>0</th>\n",
       "      <td>1</td>\n",
       "      <td>0</td>\n",
       "      <td>3134</td>\n",
       "    </tr>\n",
       "    <tr>\n",
       "      <th>1</th>\n",
       "      <td>1</td>\n",
       "      <td>1</td>\n",
       "      <td>532</td>\n",
       "    </tr>\n",
       "    <tr>\n",
       "      <th>2</th>\n",
       "      <td>2</td>\n",
       "      <td>0</td>\n",
       "      <td>194</td>\n",
       "    </tr>\n",
       "    <tr>\n",
       "      <th>3</th>\n",
       "      <td>2</td>\n",
       "      <td>1</td>\n",
       "      <td>48</td>\n",
       "    </tr>\n",
       "    <tr>\n",
       "      <th>4</th>\n",
       "      <td>3</td>\n",
       "      <td>0</td>\n",
       "      <td>1354</td>\n",
       "    </tr>\n",
       "    <tr>\n",
       "      <th>5</th>\n",
       "      <td>3</td>\n",
       "      <td>1</td>\n",
       "      <td>368</td>\n",
       "    </tr>\n",
       "  </tbody>\n",
       "</table>\n",
       "</div>"
      ],
      "text/plain": [
       "   CityTier  Churn     0\n",
       "0         1      0  3134\n",
       "1         1      1   532\n",
       "2         2      0   194\n",
       "3         2      1    48\n",
       "4         3      0  1354\n",
       "5         3      1   368"
      ]
     },
     "execution_count": 26,
     "metadata": {},
     "output_type": "execute_result"
    }
   ],
   "source": [
    "df.groupby(['CityTier','Churn']).size().reset_index()"
   ]
  },
  {
   "cell_type": "markdown",
   "id": "b0d5ad95",
   "metadata": {},
   "source": [
    "#### Churn rate on the basis of City Tier\n",
    "- __Tier 1 - 15%__\n",
    "- __Tier 2 - 19%__\n",
    "- __Tier 3 - 21%__\n",
    "\n"
   ]
  },
  {
   "cell_type": "markdown",
   "id": "d489da68",
   "metadata": {},
   "source": [
    "&nbsp;"
   ]
  },
  {
   "cell_type": "code",
   "execution_count": 27,
   "id": "5df3f9d1",
   "metadata": {
    "scrolled": false
   },
   "outputs": [
    {
     "name": "stderr",
     "output_type": "stream",
     "text": [
      "C:\\Users\\ASUS\\anaconda3\\lib\\site-packages\\seaborn\\_decorators.py:36: FutureWarning: Pass the following variable as a keyword arg: x. From version 0.12, the only valid positional argument will be `data`, and passing other arguments without an explicit keyword will result in an error or misinterpretation.\n",
      "  warnings.warn(\n"
     ]
    },
    {
     "data": {
      "text/plain": [
       "<AxesSubplot:xlabel='SatisfactionScore', ylabel='count'>"
      ]
     },
     "execution_count": 27,
     "metadata": {},
     "output_type": "execute_result"
    },
    {
     "data": {
      "image/png": "[encoded data removed]",
      "text/plain": [
       "<Figure size 1440x576 with 1 Axes>"
      ]
     },
     "metadata": {},
     "output_type": "display_data"
    }
   ],
   "source": [
    "sns.countplot('SatisfactionScore', hue = 'Churn', data = df)"
   ]
  },
  {
   "cell_type": "code",
   "execution_count": 28,
   "id": "9f29337d",
   "metadata": {},
   "outputs": [
    {
     "name": "stderr",
     "output_type": "stream",
     "text": [
      "C:\\Users\\ASUS\\anaconda3\\lib\\site-packages\\seaborn\\_decorators.py:36: FutureWarning: Pass the following variable as a keyword arg: x. From version 0.12, the only valid positional argument will be `data`, and passing other arguments without an explicit keyword will result in an error or misinterpretation.\n",
      "  warnings.warn(\n"
     ]
    },
    {
     "data": {
      "text/plain": [
       "<AxesSubplot:xlabel='Tenure', ylabel='count'>"
      ]
     },
     "execution_count": 28,
     "metadata": {},
     "output_type": "execute_result"
    },
    {
     "data": {
      "image/png": "[encoded data removed]",
      "text/plain": [
       "<Figure size 1440x576 with 1 Axes>"
      ]
     },
     "metadata": {},
     "output_type": "display_data"
    }
   ],
   "source": [
    "sns.countplot('Tenure', hue = 'SatisfactionScore', data = df)"
   ]
  },
  {
   "cell_type": "code",
   "execution_count": 29,
   "id": "2bf66aa4",
   "metadata": {},
   "outputs": [],
   "source": [
    "df1 = df[(df.SatisfactionScore>=3) & (df.Tenure <= 1.0)]"
   ]
  },
  {
   "cell_type": "code",
   "execution_count": 30,
   "id": "9aab5dc3",
   "metadata": {},
   "outputs": [
    {
     "data": {
      "text/plain": [
       "SatisfactionScore  Churn\n",
       "3                  0        171\n",
       "                   1        190\n",
       "4                  0         95\n",
       "                   1        107\n",
       "5                  0        116\n",
       "                   1        186\n",
       "dtype: int64"
      ]
     },
     "execution_count": 30,
     "metadata": {},
     "output_type": "execute_result"
    }
   ],
   "source": [
    "df1.groupby(['SatisfactionScore','Churn']).size()"
   ]
  },
  {
   "cell_type": "markdown",
   "id": "6bd5bc21",
   "metadata": {},
   "source": [
    "#### df1 are the df of new cutomers i.e (0,1 months) who are satisfied."
   ]
  },
  {
   "cell_type": "markdown",
   "id": "cfbea0b0",
   "metadata": {},
   "source": [
    "&nbsp;"
   ]
  },
  {
   "cell_type": "code",
   "execution_count": 31,
   "id": "74835265",
   "metadata": {},
   "outputs": [
    {
     "name": "stderr",
     "output_type": "stream",
     "text": [
      "C:\\Users\\ASUS\\anaconda3\\lib\\site-packages\\seaborn\\_decorators.py:36: FutureWarning: Pass the following variable as a keyword arg: x. From version 0.12, the only valid positional argument will be `data`, and passing other arguments without an explicit keyword will result in an error or misinterpretation.\n",
      "  warnings.warn(\n"
     ]
    },
    {
     "data": {
      "text/plain": [
       "<AxesSubplot:xlabel='SatisfactionScore', ylabel='count'>"
      ]
     },
     "execution_count": 31,
     "metadata": {},
     "output_type": "execute_result"
    },
    {
     "data": {
      "image/png": "[encoded data removed]",
      "text/plain": [
       "<Figure size 1440x576 with 1 Axes>"
      ]
     },
     "metadata": {},
     "output_type": "display_data"
    }
   ],
   "source": [
    "sns.countplot('SatisfactionScore', hue = 'Churn', data = df1)"
   ]
  },
  {
   "cell_type": "markdown",
   "id": "8a9e8f35",
   "metadata": {},
   "source": [
    " ####  There are 1198 new customers out of which 865 are the satistfied customers.i.e  72% new cusotmers are satisfied   (df1)\n",
    " ####  483 people out of 865 churn i.e 55% "
   ]
  },
  {
   "cell_type": "markdown",
   "id": "4c5282c6",
   "metadata": {},
   "source": [
    "- Might be the incentive due to which the people were connected with the website discontinued."
   ]
  },
  {
   "cell_type": "markdown",
   "id": "0fc5eeec",
   "metadata": {},
   "source": []
  },
  {
   "cell_type": "markdown",
   "id": "ca3af977",
   "metadata": {},
   "source": [
    "#### df2 - new customers"
   ]
  },
  {
   "cell_type": "code",
   "execution_count": 32,
   "id": "38676961",
   "metadata": {
    "scrolled": true
   },
   "outputs": [],
   "source": [
    "df2 = df[df['Tenure']<= 1.0]"
   ]
  },
  {
   "cell_type": "code",
   "execution_count": 33,
   "id": "e340a9cf",
   "metadata": {},
   "outputs": [
    {
     "data": {
      "text/plain": [
       "(1198, 20)"
      ]
     },
     "execution_count": 33,
     "metadata": {},
     "output_type": "execute_result"
    }
   ],
   "source": [
    "df2.shape"
   ]
  },
  {
   "cell_type": "code",
   "execution_count": 34,
   "id": "0a54e25c",
   "metadata": {},
   "outputs": [
    {
     "name": "stderr",
     "output_type": "stream",
     "text": [
      "C:\\Users\\ASUS\\anaconda3\\lib\\site-packages\\seaborn\\_decorators.py:36: FutureWarning: Pass the following variable as a keyword arg: x. From version 0.12, the only valid positional argument will be `data`, and passing other arguments without an explicit keyword will result in an error or misinterpretation.\n",
      "  warnings.warn(\n"
     ]
    },
    {
     "data": {
      "text/plain": [
       "<AxesSubplot:xlabel='Churn', ylabel='count'>"
      ]
     },
     "execution_count": 34,
     "metadata": {},
     "output_type": "execute_result"
    },
    {
     "data": {
      "image/png": "[encoded data removed]",
      "text/plain": [
       "<Figure size 1440x576 with 1 Axes>"
      ]
     },
     "metadata": {},
     "output_type": "display_data"
    }
   ],
   "source": [
    "sns.countplot('Churn',hue = 'Gender',data = df2)"
   ]
  },
  {
   "cell_type": "code",
   "execution_count": 35,
   "id": "59adfb09",
   "metadata": {},
   "outputs": [
    {
     "data": {
      "text/plain": [
       "Churn  Gender\n",
       "0      Female    202\n",
       "       Male      375\n",
       "1      Female    234\n",
       "       Male      387\n",
       "dtype: int64"
      ]
     },
     "execution_count": 35,
     "metadata": {},
     "output_type": "execute_result"
    }
   ],
   "source": [
    "df2.groupby(['Churn','Gender']).size()"
   ]
  },
  {
   "cell_type": "markdown",
   "id": "1182d246",
   "metadata": {},
   "source": [
    "#### Among the new customers(Tenure <=1) the churn rate is as follows (df2)\n",
    "- Female 54% \n",
    "- Male 51%"
   ]
  },
  {
   "cell_type": "markdown",
   "id": "b38de8d5",
   "metadata": {},
   "source": [
    "&nbsp;"
   ]
  },
  {
   "cell_type": "markdown",
   "id": "f79c9f89",
   "metadata": {},
   "source": [
    "#### Single people"
   ]
  },
  {
   "cell_type": "code",
   "execution_count": 36,
   "id": "8a160f4a",
   "metadata": {},
   "outputs": [],
   "source": [
    "df3 = df[df['MaritalStatus']== 'Single']"
   ]
  },
  {
   "cell_type": "code",
   "execution_count": 37,
   "id": "33c6c1a1",
   "metadata": {},
   "outputs": [
    {
     "name": "stderr",
     "output_type": "stream",
     "text": [
      "C:\\Users\\ASUS\\anaconda3\\lib\\site-packages\\seaborn\\_decorators.py:36: FutureWarning: Pass the following variable as a keyword arg: x. From version 0.12, the only valid positional argument will be `data`, and passing other arguments without an explicit keyword will result in an error or misinterpretation.\n",
      "  warnings.warn(\n"
     ]
    },
    {
     "data": {
      "text/plain": [
       "<AxesSubplot:xlabel='Gender', ylabel='count'>"
      ]
     },
     "execution_count": 37,
     "metadata": {},
     "output_type": "execute_result"
    },
    {
     "data": {
      "image/png": "[encoded data removed]",
      "text/plain": [
       "<Figure size 1440x576 with 1 Axes>"
      ]
     },
     "metadata": {},
     "output_type": "display_data"
    }
   ],
   "source": [
    "sns.countplot('Gender', hue = 'Churn',data= df3)"
   ]
  },
  {
   "cell_type": "code",
   "execution_count": 38,
   "id": "21798db6",
   "metadata": {},
   "outputs": [
    {
     "data": {
      "text/plain": [
       "Gender  Churn\n",
       "Female  0        570\n",
       "        1        188\n",
       "Male    0        746\n",
       "        1        292\n",
       "dtype: int64"
      ]
     },
     "execution_count": 38,
     "metadata": {},
     "output_type": "execute_result"
    }
   ],
   "source": [
    "df3.groupby(['Gender','Churn']).size()"
   ]
  },
  {
   "cell_type": "markdown",
   "id": "c55cced2",
   "metadata": {},
   "source": [
    "#### Among the Unmarried Customers the churn rate is as follows(df3)\n",
    "- Female 25%\n",
    "- Male 28%\n",
    "- 27% Unmarried customers Churn"
   ]
  },
  {
   "cell_type": "markdown",
   "id": "dd84cae2",
   "metadata": {},
   "source": [
    "&nbsp;"
   ]
  },
  {
   "cell_type": "code",
   "execution_count": 39,
   "id": "afa8eedd",
   "metadata": {},
   "outputs": [
    {
     "name": "stderr",
     "output_type": "stream",
     "text": [
      "C:\\Users\\ASUS\\anaconda3\\lib\\site-packages\\seaborn\\_decorators.py:36: FutureWarning: Pass the following variable as a keyword arg: x. From version 0.12, the only valid positional argument will be `data`, and passing other arguments without an explicit keyword will result in an error or misinterpretation.\n",
      "  warnings.warn(\n"
     ]
    },
    {
     "data": {
      "text/plain": [
       "<AxesSubplot:xlabel='MaritalStatus', ylabel='count'>"
      ]
     },
     "execution_count": 39,
     "metadata": {},
     "output_type": "execute_result"
    },
    {
     "data": {
      "image/png": "[encoded data removed]",
      "text/plain": [
       "<Figure size 1440x576 with 1 Axes>"
      ]
     },
     "metadata": {},
     "output_type": "display_data"
    }
   ],
   "source": [
    "sns.countplot('MaritalStatus', hue = 'Churn', data = df)"
   ]
  },
  {
   "cell_type": "code",
   "execution_count": 40,
   "id": "49e031a5",
   "metadata": {},
   "outputs": [
    {
     "data": {
      "text/plain": [
       "MaritalStatus  Churn\n",
       "Divorced       0         724\n",
       "               1         124\n",
       "Married        0        2642\n",
       "               1         344\n",
       "Single         0        1316\n",
       "               1         480\n",
       "dtype: int64"
      ]
     },
     "execution_count": 40,
     "metadata": {},
     "output_type": "execute_result"
    }
   ],
   "source": [
    "df.groupby(['MaritalStatus','Churn']).size()"
   ]
  },
  {
   "cell_type": "markdown",
   "id": "c3939f0b",
   "metadata": {},
   "source": [
    "#### Churn rate among the categories according to the marital Status are ( df)\n",
    "- Divorced - 15%\n",
    "- Married - 12%\n",
    "- Single - 27%"
   ]
  },
  {
   "cell_type": "markdown",
   "id": "628f2f52",
   "metadata": {},
   "source": [
    "&nbsp;"
   ]
  },
  {
   "cell_type": "code",
   "execution_count": 41,
   "id": "3ab43054",
   "metadata": {},
   "outputs": [
    {
     "name": "stderr",
     "output_type": "stream",
     "text": [
      "C:\\Users\\ASUS\\anaconda3\\lib\\site-packages\\seaborn\\_decorators.py:36: FutureWarning: Pass the following variable as a keyword arg: x. From version 0.12, the only valid positional argument will be `data`, and passing other arguments without an explicit keyword will result in an error or misinterpretation.\n",
      "  warnings.warn(\n"
     ]
    },
    {
     "data": {
      "text/plain": [
       "<AxesSubplot:xlabel='Complain', ylabel='count'>"
      ]
     },
     "execution_count": 41,
     "metadata": {},
     "output_type": "execute_result"
    },
    {
     "data": {
      "image/png": "[encoded data removed]",
      "text/plain": [
       "<Figure size 1440x576 with 1 Axes>"
      ]
     },
     "metadata": {},
     "output_type": "display_data"
    }
   ],
   "source": [
    "sns.countplot('Complain', hue = 'Churn', data = df)"
   ]
  },
  {
   "cell_type": "markdown",
   "id": "f5fc9fe4",
   "metadata": {},
   "source": [
    "&nbsp;"
   ]
  },
  {
   "cell_type": "code",
   "execution_count": 42,
   "id": "09d2381a",
   "metadata": {},
   "outputs": [
    {
     "data": {
      "text/plain": [
       "Gender  PreferedOrderCat    MaritalStatus\n",
       "Female  Fashion             Divorced          66\n",
       "                            Married          188\n",
       "                            Single           100\n",
       "        Grocery             Divorced          40\n",
       "                            Married          104\n",
       "                            Single            54\n",
       "        Laptop & Accessory  Divorced         132\n",
       "                            Married          442\n",
       "                            Single           270\n",
       "        Mobile Phone        Divorced          94\n",
       "                            Married          354\n",
       "                            Single           316\n",
       "        Others              Divorced          16\n",
       "                            Married           52\n",
       "                            Single            18\n",
       "Male    Fashion             Divorced          60\n",
       "                            Married          278\n",
       "                            Single           134\n",
       "        Grocery             Divorced          42\n",
       "                            Married          120\n",
       "                            Single            50\n",
       "        Laptop & Accessory  Divorced         164\n",
       "                            Married          692\n",
       "                            Single           350\n",
       "        Mobile Phone        Divorced         202\n",
       "                            Married          652\n",
       "                            Single           462\n",
       "        Others              Divorced          32\n",
       "                            Married          104\n",
       "                            Single            42\n",
       "dtype: int64"
      ]
     },
     "execution_count": 42,
     "metadata": {},
     "output_type": "execute_result"
    }
   ],
   "source": [
    "df.groupby(['Gender','PreferedOrderCat','MaritalStatus']).size()"
   ]
  },
  {
   "cell_type": "markdown",
   "id": "b2545f78",
   "metadata": {},
   "source": [
    "- #### Men order more fashion product than women.\n",
    "    - Married men are more in numbers followed by single.\n",
    "    - average hours spend on app for male and female are almost same.<br> It may happen that men's id is used by their wives.\n"
   ]
  },
  {
   "cell_type": "markdown",
   "id": "4f06c376",
   "metadata": {},
   "source": [
    "- more no of device registered in male id than female."
   ]
  },
  {
   "cell_type": "markdown",
   "id": "1cde1559",
   "metadata": {},
   "source": [
    "&nbsp;"
   ]
  },
  {
   "cell_type": "markdown",
   "id": "aa6efe4d",
   "metadata": {},
   "source": [
    "### Outliers Detection and Treatment "
   ]
  },
  {
   "cell_type": "code",
   "execution_count": 43,
   "id": "612f2fef",
   "metadata": {},
   "outputs": [
    {
     "data": {
      "text/html": [
       "<div>\n",
       "<style scoped>\n",
       "    .dataframe tbody tr th:only-of-type {\n",
       "        vertical-align: middle;\n",
       "    }\n",
       "\n",
       "    .dataframe tbody tr th {\n",
       "        vertical-align: top;\n",
       "    }\n",
       "\n",
       "    .dataframe thead th {\n",
       "        text-align: right;\n",
       "    }\n",
       "</style>\n",
       "<table border=\"1\" class=\"dataframe\">\n",
       "  <thead>\n",
       "    <tr style=\"text-align: right;\">\n",
       "      <th></th>\n",
       "      <th>CustomerID</th>\n",
       "      <th>Churn</th>\n",
       "      <th>Tenure</th>\n",
       "      <th>CityTier</th>\n",
       "      <th>WarehouseToHome</th>\n",
       "      <th>HourSpendOnApp</th>\n",
       "      <th>NumberOfDeviceRegistered</th>\n",
       "      <th>SatisfactionScore</th>\n",
       "      <th>NumberOfAddress</th>\n",
       "      <th>Complain</th>\n",
       "      <th>OrderAmountHikeFromlastYear</th>\n",
       "      <th>CouponUsed</th>\n",
       "      <th>OrderCount</th>\n",
       "      <th>DaySinceLastOrder</th>\n",
       "      <th>CashbackAmount</th>\n",
       "    </tr>\n",
       "  </thead>\n",
       "  <tbody>\n",
       "    <tr>\n",
       "      <th>count</th>\n",
       "      <td>5630.000000</td>\n",
       "      <td>5630.000000</td>\n",
       "      <td>5366.000000</td>\n",
       "      <td>5630.000000</td>\n",
       "      <td>5379.000000</td>\n",
       "      <td>5375.000000</td>\n",
       "      <td>5630.000000</td>\n",
       "      <td>5630.000000</td>\n",
       "      <td>5630.000000</td>\n",
       "      <td>5630.000000</td>\n",
       "      <td>5365.000000</td>\n",
       "      <td>5374.000000</td>\n",
       "      <td>5372.000000</td>\n",
       "      <td>5323.000000</td>\n",
       "      <td>5630.000000</td>\n",
       "    </tr>\n",
       "    <tr>\n",
       "      <th>mean</th>\n",
       "      <td>52815.500000</td>\n",
       "      <td>0.168384</td>\n",
       "      <td>10.189899</td>\n",
       "      <td>1.654707</td>\n",
       "      <td>15.639896</td>\n",
       "      <td>2.931535</td>\n",
       "      <td>3.688988</td>\n",
       "      <td>3.066785</td>\n",
       "      <td>4.214032</td>\n",
       "      <td>0.284902</td>\n",
       "      <td>15.707922</td>\n",
       "      <td>1.751023</td>\n",
       "      <td>3.008004</td>\n",
       "      <td>4.543491</td>\n",
       "      <td>177.223030</td>\n",
       "    </tr>\n",
       "    <tr>\n",
       "      <th>std</th>\n",
       "      <td>1625.385339</td>\n",
       "      <td>0.374240</td>\n",
       "      <td>8.557241</td>\n",
       "      <td>0.915389</td>\n",
       "      <td>8.531475</td>\n",
       "      <td>0.721926</td>\n",
       "      <td>1.023999</td>\n",
       "      <td>1.380194</td>\n",
       "      <td>2.583586</td>\n",
       "      <td>0.451408</td>\n",
       "      <td>3.675485</td>\n",
       "      <td>1.894621</td>\n",
       "      <td>2.939680</td>\n",
       "      <td>3.654433</td>\n",
       "      <td>49.207036</td>\n",
       "    </tr>\n",
       "    <tr>\n",
       "      <th>min</th>\n",
       "      <td>50001.000000</td>\n",
       "      <td>0.000000</td>\n",
       "      <td>0.000000</td>\n",
       "      <td>1.000000</td>\n",
       "      <td>5.000000</td>\n",
       "      <td>0.000000</td>\n",
       "      <td>1.000000</td>\n",
       "      <td>1.000000</td>\n",
       "      <td>1.000000</td>\n",
       "      <td>0.000000</td>\n",
       "      <td>11.000000</td>\n",
       "      <td>0.000000</td>\n",
       "      <td>1.000000</td>\n",
       "      <td>0.000000</td>\n",
       "      <td>0.000000</td>\n",
       "    </tr>\n",
       "    <tr>\n",
       "      <th>25%</th>\n",
       "      <td>51408.250000</td>\n",
       "      <td>0.000000</td>\n",
       "      <td>2.000000</td>\n",
       "      <td>1.000000</td>\n",
       "      <td>9.000000</td>\n",
       "      <td>2.000000</td>\n",
       "      <td>3.000000</td>\n",
       "      <td>2.000000</td>\n",
       "      <td>2.000000</td>\n",
       "      <td>0.000000</td>\n",
       "      <td>13.000000</td>\n",
       "      <td>1.000000</td>\n",
       "      <td>1.000000</td>\n",
       "      <td>2.000000</td>\n",
       "      <td>145.770000</td>\n",
       "    </tr>\n",
       "    <tr>\n",
       "      <th>50%</th>\n",
       "      <td>52815.500000</td>\n",
       "      <td>0.000000</td>\n",
       "      <td>9.000000</td>\n",
       "      <td>1.000000</td>\n",
       "      <td>14.000000</td>\n",
       "      <td>3.000000</td>\n",
       "      <td>4.000000</td>\n",
       "      <td>3.000000</td>\n",
       "      <td>3.000000</td>\n",
       "      <td>0.000000</td>\n",
       "      <td>15.000000</td>\n",
       "      <td>1.000000</td>\n",
       "      <td>2.000000</td>\n",
       "      <td>3.000000</td>\n",
       "      <td>163.280000</td>\n",
       "    </tr>\n",
       "    <tr>\n",
       "      <th>75%</th>\n",
       "      <td>54222.750000</td>\n",
       "      <td>0.000000</td>\n",
       "      <td>16.000000</td>\n",
       "      <td>3.000000</td>\n",
       "      <td>20.000000</td>\n",
       "      <td>3.000000</td>\n",
       "      <td>4.000000</td>\n",
       "      <td>4.000000</td>\n",
       "      <td>6.000000</td>\n",
       "      <td>1.000000</td>\n",
       "      <td>18.000000</td>\n",
       "      <td>2.000000</td>\n",
       "      <td>3.000000</td>\n",
       "      <td>7.000000</td>\n",
       "      <td>196.392500</td>\n",
       "    </tr>\n",
       "    <tr>\n",
       "      <th>max</th>\n",
       "      <td>55630.000000</td>\n",
       "      <td>1.000000</td>\n",
       "      <td>61.000000</td>\n",
       "      <td>3.000000</td>\n",
       "      <td>127.000000</td>\n",
       "      <td>5.000000</td>\n",
       "      <td>6.000000</td>\n",
       "      <td>5.000000</td>\n",
       "      <td>22.000000</td>\n",
       "      <td>1.000000</td>\n",
       "      <td>26.000000</td>\n",
       "      <td>16.000000</td>\n",
       "      <td>16.000000</td>\n",
       "      <td>46.000000</td>\n",
       "      <td>324.990000</td>\n",
       "    </tr>\n",
       "  </tbody>\n",
       "</table>\n",
       "</div>"
      ],
      "text/plain": [
       "         CustomerID        Churn       Tenure     CityTier  WarehouseToHome  \\\n",
       "count   5630.000000  5630.000000  5366.000000  5630.000000      5379.000000   \n",
       "mean   52815.500000     0.168384    10.189899     1.654707        15.639896   \n",
       "std     1625.385339     0.374240     8.557241     0.915389         8.531475   \n",
       "min    50001.000000     0.000000     0.000000     1.000000         5.000000   \n",
       "25%    51408.250000     0.000000     2.000000     1.000000         9.000000   \n",
       "50%    52815.500000     0.000000     9.000000     1.000000        14.000000   \n",
       "75%    54222.750000     0.000000    16.000000     3.000000        20.000000   \n",
       "max    55630.000000     1.000000    61.000000     3.000000       127.000000   \n",
       "\n",
       "       HourSpendOnApp  NumberOfDeviceRegistered  SatisfactionScore  \\\n",
       "count     5375.000000               5630.000000        5630.000000   \n",
       "mean         2.931535                  3.688988           3.066785   \n",
       "std          0.721926                  1.023999           1.380194   \n",
       "min          0.000000                  1.000000           1.000000   \n",
       "25%          2.000000                  3.000000           2.000000   \n",
       "50%          3.000000                  4.000000           3.000000   \n",
       "75%          3.000000                  4.000000           4.000000   \n",
       "max          5.000000                  6.000000           5.000000   \n",
       "\n",
       "       NumberOfAddress     Complain  OrderAmountHikeFromlastYear   CouponUsed  \\\n",
       "count      5630.000000  5630.000000                  5365.000000  5374.000000   \n",
       "mean          4.214032     0.284902                    15.707922     1.751023   \n",
       "std           2.583586     0.451408                     3.675485     1.894621   \n",
       "min           1.000000     0.000000                    11.000000     0.000000   \n",
       "25%           2.000000     0.000000                    13.000000     1.000000   \n",
       "50%           3.000000     0.000000                    15.000000     1.000000   \n",
       "75%           6.000000     1.000000                    18.000000     2.000000   \n",
       "max          22.000000     1.000000                    26.000000    16.000000   \n",
       "\n",
       "        OrderCount  DaySinceLastOrder  CashbackAmount  \n",
       "count  5372.000000        5323.000000     5630.000000  \n",
       "mean      3.008004           4.543491      177.223030  \n",
       "std       2.939680           3.654433       49.207036  \n",
       "min       1.000000           0.000000        0.000000  \n",
       "25%       1.000000           2.000000      145.770000  \n",
       "50%       2.000000           3.000000      163.280000  \n",
       "75%       3.000000           7.000000      196.392500  \n",
       "max      16.000000          46.000000      324.990000  "
      ]
     },
     "execution_count": 43,
     "metadata": {},
     "output_type": "execute_result"
    }
   ],
   "source": [
    "df.describe()"
   ]
  },
  {
   "cell_type": "markdown",
   "id": "da784c8c",
   "metadata": {},
   "source": [
    "&nbsp;"
   ]
  },
  {
   "cell_type": "code",
   "execution_count": 44,
   "id": "7461d5d7",
   "metadata": {},
   "outputs": [],
   "source": [
    "columns = ['Tenure','WarehouseToHome','HourSpendOnApp','NumberOfDeviceRegistered','NumberOfAddress','OrderAmountHikeFromlastYear','CouponUsed','OrderCount','DaySinceLastOrder','CashbackAmount']"
   ]
  },
  {
   "cell_type": "code",
   "execution_count": 45,
   "id": "c1682b75",
   "metadata": {},
   "outputs": [],
   "source": [
    "def outliers(df,feature):\n",
    "    Q1 = df[feature].quantile(0.25)\n",
    "    Q3 = df[feature].quantile(0.75)\n",
    "    \n",
    "    IQR = Q3 - Q1\n",
    "    \n",
    "    Lower_bound = Q1-1.5*IQR\n",
    "    Upper_bound = Q3+1.5*IQR\n",
    "    \n",
    "    outl_index = df.index[(df[feature]<Lower_bound) | (df[feature]>Upper_bound)]\n",
    "    return outl_index\n",
    "    "
   ]
  },
  {
   "cell_type": "code",
   "execution_count": 46,
   "id": "5a51ec64",
   "metadata": {},
   "outputs": [],
   "source": [
    "index_mul_colmn = []\n",
    "for i in columns:\n",
    "    index_mul_colmn.extend(outliers(df,i))\n",
    "    "
   ]
  },
  {
   "cell_type": "code",
   "execution_count": 47,
   "id": "4f1f63cb",
   "metadata": {},
   "outputs": [],
   "source": [
    "Sorted_lst = sorted(set(index_mul_colmn))"
   ]
  },
  {
   "cell_type": "code",
   "execution_count": 102,
   "id": "270d6f21",
   "metadata": {},
   "outputs": [
    {
     "data": {
      "text/plain": [
       "1582"
      ]
     },
     "execution_count": 102,
     "metadata": {},
     "output_type": "execute_result"
    }
   ],
   "source": [
    "len(Sorted_lst)"
   ]
  },
  {
   "cell_type": "markdown",
   "id": "445f8ba4",
   "metadata": {},
   "source": [
    "&nbsp;"
   ]
  },
  {
   "cell_type": "markdown",
   "id": "36053d7f",
   "metadata": {},
   "source": [
    "#### Throuh Inter Quantile range , there are 1582 rows in which outliers are present.\n",
    "- it is not worth to drop outliers as size of data is already small.\n",
    "- Replacing value more than upper bound and less than lower bound with median as median is less sensitive to outliers."
   ]
  },
  {
   "cell_type": "code",
   "execution_count": 49,
   "id": "8718ca6d",
   "metadata": {},
   "outputs": [],
   "source": [
    "def imputing_nan_to_outliers(df,feature):\n",
    "    for col in feature:\n",
    "        \n",
    "        Q1 = df[col].quantile(0.25)\n",
    "        Q3 = df[col].quantile(0.75)\n",
    "    \n",
    "        IQR = Q3 - Q1\n",
    "    \n",
    "        Lower_bound = Q1-1.5*IQR\n",
    "        Upper_bound = Q3+1.5*IQR\n",
    "    \n",
    "        df[col] = np.where((df[col]<Lower_bound) | (df[col]>Upper_bound),df[col].median(),df[col])"
   ]
  },
  {
   "cell_type": "code",
   "execution_count": 50,
   "id": "ce455863",
   "metadata": {},
   "outputs": [],
   "source": [
    "imputing_nan_to_outliers(df,columns)"
   ]
  },
  {
   "cell_type": "code",
   "execution_count": 51,
   "id": "76dd295e",
   "metadata": {},
   "outputs": [
    {
     "data": {
      "text/html": [
       "<div>\n",
       "<style scoped>\n",
       "    .dataframe tbody tr th:only-of-type {\n",
       "        vertical-align: middle;\n",
       "    }\n",
       "\n",
       "    .dataframe tbody tr th {\n",
       "        vertical-align: top;\n",
       "    }\n",
       "\n",
       "    .dataframe thead th {\n",
       "        text-align: right;\n",
       "    }\n",
       "</style>\n",
       "<table border=\"1\" class=\"dataframe\">\n",
       "  <thead>\n",
       "    <tr style=\"text-align: right;\">\n",
       "      <th></th>\n",
       "      <th>CustomerID</th>\n",
       "      <th>Churn</th>\n",
       "      <th>Tenure</th>\n",
       "      <th>CityTier</th>\n",
       "      <th>WarehouseToHome</th>\n",
       "      <th>HourSpendOnApp</th>\n",
       "      <th>NumberOfDeviceRegistered</th>\n",
       "      <th>SatisfactionScore</th>\n",
       "      <th>NumberOfAddress</th>\n",
       "      <th>Complain</th>\n",
       "      <th>OrderAmountHikeFromlastYear</th>\n",
       "      <th>CouponUsed</th>\n",
       "      <th>OrderCount</th>\n",
       "      <th>DaySinceLastOrder</th>\n",
       "      <th>CashbackAmount</th>\n",
       "    </tr>\n",
       "  </thead>\n",
       "  <tbody>\n",
       "    <tr>\n",
       "      <th>count</th>\n",
       "      <td>5630.000000</td>\n",
       "      <td>5630.000000</td>\n",
       "      <td>5366.000000</td>\n",
       "      <td>5630.000000</td>\n",
       "      <td>5379.000000</td>\n",
       "      <td>5375.000000</td>\n",
       "      <td>5630.000000</td>\n",
       "      <td>5630.000000</td>\n",
       "      <td>5630.000000</td>\n",
       "      <td>5630.000000</td>\n",
       "      <td>5365.000000</td>\n",
       "      <td>5374.000000</td>\n",
       "      <td>5372.000000</td>\n",
       "      <td>5323.000000</td>\n",
       "      <td>5630.000000</td>\n",
       "    </tr>\n",
       "    <tr>\n",
       "      <th>mean</th>\n",
       "      <td>52815.500000</td>\n",
       "      <td>0.168384</td>\n",
       "      <td>10.155237</td>\n",
       "      <td>1.654707</td>\n",
       "      <td>15.598067</td>\n",
       "      <td>2.932093</td>\n",
       "      <td>3.756661</td>\n",
       "      <td>3.066785</td>\n",
       "      <td>4.201599</td>\n",
       "      <td>0.284902</td>\n",
       "      <td>15.640261</td>\n",
       "      <td>1.168776</td>\n",
       "      <td>2.022152</td>\n",
       "      <td>4.377607</td>\n",
       "      <td>167.236330</td>\n",
       "    </tr>\n",
       "    <tr>\n",
       "      <th>std</th>\n",
       "      <td>1625.385339</td>\n",
       "      <td>0.374240</td>\n",
       "      <td>8.466211</td>\n",
       "      <td>0.915389</td>\n",
       "      <td>8.259223</td>\n",
       "      <td>0.716935</td>\n",
       "      <td>0.771520</td>\n",
       "      <td>1.380194</td>\n",
       "      <td>2.546850</td>\n",
       "      <td>0.451408</td>\n",
       "      <td>3.585530</td>\n",
       "      <td>0.803389</td>\n",
       "      <td>1.121577</td>\n",
       "      <td>3.351426</td>\n",
       "      <td>33.948422</td>\n",
       "    </tr>\n",
       "    <tr>\n",
       "      <th>min</th>\n",
       "      <td>50001.000000</td>\n",
       "      <td>0.000000</td>\n",
       "      <td>0.000000</td>\n",
       "      <td>1.000000</td>\n",
       "      <td>5.000000</td>\n",
       "      <td>1.000000</td>\n",
       "      <td>2.000000</td>\n",
       "      <td>1.000000</td>\n",
       "      <td>1.000000</td>\n",
       "      <td>0.000000</td>\n",
       "      <td>11.000000</td>\n",
       "      <td>0.000000</td>\n",
       "      <td>1.000000</td>\n",
       "      <td>0.000000</td>\n",
       "      <td>81.000000</td>\n",
       "    </tr>\n",
       "    <tr>\n",
       "      <th>25%</th>\n",
       "      <td>51408.250000</td>\n",
       "      <td>0.000000</td>\n",
       "      <td>2.000000</td>\n",
       "      <td>1.000000</td>\n",
       "      <td>9.000000</td>\n",
       "      <td>2.000000</td>\n",
       "      <td>3.000000</td>\n",
       "      <td>2.000000</td>\n",
       "      <td>2.000000</td>\n",
       "      <td>0.000000</td>\n",
       "      <td>13.000000</td>\n",
       "      <td>1.000000</td>\n",
       "      <td>1.000000</td>\n",
       "      <td>2.000000</td>\n",
       "      <td>145.882500</td>\n",
       "    </tr>\n",
       "    <tr>\n",
       "      <th>50%</th>\n",
       "      <td>52815.500000</td>\n",
       "      <td>0.000000</td>\n",
       "      <td>9.000000</td>\n",
       "      <td>1.000000</td>\n",
       "      <td>14.000000</td>\n",
       "      <td>3.000000</td>\n",
       "      <td>4.000000</td>\n",
       "      <td>3.000000</td>\n",
       "      <td>3.000000</td>\n",
       "      <td>0.000000</td>\n",
       "      <td>15.000000</td>\n",
       "      <td>1.000000</td>\n",
       "      <td>2.000000</td>\n",
       "      <td>3.000000</td>\n",
       "      <td>163.280000</td>\n",
       "    </tr>\n",
       "    <tr>\n",
       "      <th>75%</th>\n",
       "      <td>54222.750000</td>\n",
       "      <td>0.000000</td>\n",
       "      <td>16.000000</td>\n",
       "      <td>3.000000</td>\n",
       "      <td>20.000000</td>\n",
       "      <td>3.000000</td>\n",
       "      <td>4.000000</td>\n",
       "      <td>4.000000</td>\n",
       "      <td>6.000000</td>\n",
       "      <td>1.000000</td>\n",
       "      <td>18.000000</td>\n",
       "      <td>2.000000</td>\n",
       "      <td>2.000000</td>\n",
       "      <td>7.000000</td>\n",
       "      <td>182.437500</td>\n",
       "    </tr>\n",
       "    <tr>\n",
       "      <th>max</th>\n",
       "      <td>55630.000000</td>\n",
       "      <td>1.000000</td>\n",
       "      <td>31.000000</td>\n",
       "      <td>3.000000</td>\n",
       "      <td>36.000000</td>\n",
       "      <td>4.000000</td>\n",
       "      <td>5.000000</td>\n",
       "      <td>5.000000</td>\n",
       "      <td>11.000000</td>\n",
       "      <td>1.000000</td>\n",
       "      <td>25.000000</td>\n",
       "      <td>3.000000</td>\n",
       "      <td>6.000000</td>\n",
       "      <td>14.000000</td>\n",
       "      <td>272.320000</td>\n",
       "    </tr>\n",
       "  </tbody>\n",
       "</table>\n",
       "</div>"
      ],
      "text/plain": [
       "         CustomerID        Churn       Tenure     CityTier  WarehouseToHome  \\\n",
       "count   5630.000000  5630.000000  5366.000000  5630.000000      5379.000000   \n",
       "mean   52815.500000     0.168384    10.155237     1.654707        15.598067   \n",
       "std     1625.385339     0.374240     8.466211     0.915389         8.259223   \n",
       "min    50001.000000     0.000000     0.000000     1.000000         5.000000   \n",
       "25%    51408.250000     0.000000     2.000000     1.000000         9.000000   \n",
       "50%    52815.500000     0.000000     9.000000     1.000000        14.000000   \n",
       "75%    54222.750000     0.000000    16.000000     3.000000        20.000000   \n",
       "max    55630.000000     1.000000    31.000000     3.000000        36.000000   \n",
       "\n",
       "       HourSpendOnApp  NumberOfDeviceRegistered  SatisfactionScore  \\\n",
       "count     5375.000000               5630.000000        5630.000000   \n",
       "mean         2.932093                  3.756661           3.066785   \n",
       "std          0.716935                  0.771520           1.380194   \n",
       "min          1.000000                  2.000000           1.000000   \n",
       "25%          2.000000                  3.000000           2.000000   \n",
       "50%          3.000000                  4.000000           3.000000   \n",
       "75%          3.000000                  4.000000           4.000000   \n",
       "max          4.000000                  5.000000           5.000000   \n",
       "\n",
       "       NumberOfAddress     Complain  OrderAmountHikeFromlastYear   CouponUsed  \\\n",
       "count      5630.000000  5630.000000                  5365.000000  5374.000000   \n",
       "mean          4.201599     0.284902                    15.640261     1.168776   \n",
       "std           2.546850     0.451408                     3.585530     0.803389   \n",
       "min           1.000000     0.000000                    11.000000     0.000000   \n",
       "25%           2.000000     0.000000                    13.000000     1.000000   \n",
       "50%           3.000000     0.000000                    15.000000     1.000000   \n",
       "75%           6.000000     1.000000                    18.000000     2.000000   \n",
       "max          11.000000     1.000000                    25.000000     3.000000   \n",
       "\n",
       "        OrderCount  DaySinceLastOrder  CashbackAmount  \n",
       "count  5372.000000        5323.000000     5630.000000  \n",
       "mean      2.022152           4.377607      167.236330  \n",
       "std       1.121577           3.351426       33.948422  \n",
       "min       1.000000           0.000000       81.000000  \n",
       "25%       1.000000           2.000000      145.882500  \n",
       "50%       2.000000           3.000000      163.280000  \n",
       "75%       2.000000           7.000000      182.437500  \n",
       "max       6.000000          14.000000      272.320000  "
      ]
     },
     "execution_count": 51,
     "metadata": {},
     "output_type": "execute_result"
    }
   ],
   "source": [
    "df.describe()"
   ]
  },
  {
   "cell_type": "markdown",
   "id": "985ba576",
   "metadata": {},
   "source": [
    "&nbsp;"
   ]
  },
  {
   "cell_type": "markdown",
   "id": "d394f041",
   "metadata": {},
   "source": [
    "## Skewess Detection and Treatment"
   ]
  },
  {
   "cell_type": "code",
   "execution_count": 53,
   "id": "8cf9e07b",
   "metadata": {
    "scrolled": false
   },
   "outputs": [
    {
     "name": "stderr",
     "output_type": "stream",
     "text": [
      "C:\\Users\\ASUS\\AppData\\Local\\Temp/ipykernel_5116/2290083512.py:1: FutureWarning: Dropping of nuisance columns in DataFrame reductions (with 'numeric_only=None') is deprecated; in a future version this will raise TypeError.  Select only valid columns before calling the reduction.\n",
      "  df.skew(axis =0)\n"
     ]
    },
    {
     "data": {
      "text/plain": [
       "CustomerID                     0.000000\n",
       "Churn                          1.772843\n",
       "Tenure                         0.654261\n",
       "CityTier                       0.735326\n",
       "WarehouseToHome                0.900089\n",
       "HourSpendOnApp                -0.005353\n",
       "NumberOfDeviceRegistered      -0.193046\n",
       "SatisfactionScore             -0.142626\n",
       "NumberOfAddress                0.962504\n",
       "Complain                       0.953347\n",
       "OrderAmountHikeFromlastYear    0.762844\n",
       "CouponUsed                     0.390392\n",
       "OrderCount                     1.776636\n",
       "DaySinceLastOrder              0.669204\n",
       "CashbackAmount                 0.990677\n",
       "dtype: float64"
      ]
     },
     "execution_count": 53,
     "metadata": {},
     "output_type": "execute_result"
    }
   ],
   "source": [
    "df.skew(axis =0)"
   ]
  },
  {
   "cell_type": "markdown",
   "id": "5a429141",
   "metadata": {},
   "source": [
    "#### Skewness\n",
    "- If the skewness is between -0.5 and 0.5, the data are fairly symmetrical\n",
    "- If the skewness is between -1 and — 0.5 or between 0.5 and 1, the data are moderately skewed\n",
    "- If the skewness is less than -1 or greater than 1, the data are highly skewed"
   ]
  },
  {
   "cell_type": "markdown",
   "id": "f870a744",
   "metadata": {},
   "source": [
    "&nbsp;"
   ]
  },
  {
   "cell_type": "code",
   "execution_count": 54,
   "id": "c14fa46e",
   "metadata": {},
   "outputs": [],
   "source": [
    "Skew_col = ['Tenure','WarehouseToHome','NumberOfAddress','OrderAmountHikeFromlastYear','OrderCount','DaySinceLastOrder','CashbackAmount']"
   ]
  },
  {
   "cell_type": "code",
   "execution_count": 55,
   "id": "b5a10df9",
   "metadata": {
    "scrolled": true
   },
   "outputs": [
    {
     "name": "stdout",
     "output_type": "stream",
     "text": [
      "Skewness of Tenure column is 0.6542611324794475\n",
      "Skewness of WarehouseToHome column is 0.9000886362206922\n",
      "Skewness of NumberOfAddress column is 0.9625040130875783\n",
      "Skewness of OrderAmountHikeFromlastYear column is 0.7628440510245647\n",
      "Skewness of OrderCount column is 1.7766358409097207\n",
      "Skewness of DaySinceLastOrder column is 0.6692041897399055\n",
      "Skewness of CashbackAmount column is 0.9906768905637121\n"
     ]
    }
   ],
   "source": [
    "for col in Skew_col: \n",
    "    print(\"Skewness of {} column is {}\".format(col,df[col].skew()))\n",
    "#     sns.distplot(df[col])\n",
    "#     plt.show()\n",
    "    "
   ]
  },
  {
   "cell_type": "markdown",
   "id": "2c83a66d",
   "metadata": {},
   "source": [
    "&nbsp;"
   ]
  },
  {
   "cell_type": "code",
   "execution_count": 56,
   "id": "bfad9bd6",
   "metadata": {},
   "outputs": [
    {
     "name": "stdout",
     "output_type": "stream",
     "text": [
      "Skewness of Tenure column  is -0.5925022059672272\n",
      "Skewness of WarehouseToHome column  is 0.26460308985208963\n",
      "Skewness of NumberOfAddress column  is 0.2195465629668732\n",
      "Skewness of OrderAmountHikeFromlastYear column  is 0.4507356059445017\n",
      "Skewness of OrderCount column  is 0.8178592407580255\n",
      "Skewness of DaySinceLastOrder column  is -0.4379529524856174\n",
      "Skewness of CashbackAmount column  is 0.5127105801514045\n"
     ]
    }
   ],
   "source": [
    "for i in Skew_col:\n",
    "    df[i] = np.log(df[i]+1)\n",
    "    print(\"Skewness of {} column  is {}\".format(i,df[i].skew()))\n",
    "#     sns.distplot(df[i])\n",
    "#     plt.show()"
   ]
  },
  {
   "cell_type": "markdown",
   "id": "9020052a",
   "metadata": {},
   "source": [
    "- Log tranformation works better than Square root transformation."
   ]
  },
  {
   "cell_type": "markdown",
   "id": "85c020c1",
   "metadata": {},
   "source": [
    "&nbsp;"
   ]
  },
  {
   "cell_type": "markdown",
   "id": "19a211aa",
   "metadata": {},
   "source": [
    "# Treating null values using Knn imputer"
   ]
  },
  {
   "cell_type": "code",
   "execution_count": 57,
   "id": "2c183dff",
   "metadata": {},
   "outputs": [
    {
     "data": {
      "text/html": [
       "<div>\n",
       "<style scoped>\n",
       "    .dataframe tbody tr th:only-of-type {\n",
       "        vertical-align: middle;\n",
       "    }\n",
       "\n",
       "    .dataframe tbody tr th {\n",
       "        vertical-align: top;\n",
       "    }\n",
       "\n",
       "    .dataframe thead th {\n",
       "        text-align: right;\n",
       "    }\n",
       "</style>\n",
       "<table border=\"1\" class=\"dataframe\">\n",
       "  <thead>\n",
       "    <tr style=\"text-align: right;\">\n",
       "      <th></th>\n",
       "      <th>CustomerID</th>\n",
       "      <th>Churn</th>\n",
       "      <th>Tenure</th>\n",
       "      <th>PreferredLoginDevice</th>\n",
       "      <th>CityTier</th>\n",
       "      <th>WarehouseToHome</th>\n",
       "      <th>PreferredPaymentMode</th>\n",
       "      <th>Gender</th>\n",
       "      <th>HourSpendOnApp</th>\n",
       "      <th>NumberOfDeviceRegistered</th>\n",
       "      <th>PreferedOrderCat</th>\n",
       "      <th>SatisfactionScore</th>\n",
       "      <th>MaritalStatus</th>\n",
       "      <th>NumberOfAddress</th>\n",
       "      <th>Complain</th>\n",
       "      <th>OrderAmountHikeFromlastYear</th>\n",
       "      <th>CouponUsed</th>\n",
       "      <th>OrderCount</th>\n",
       "      <th>DaySinceLastOrder</th>\n",
       "      <th>CashbackAmount</th>\n",
       "    </tr>\n",
       "  </thead>\n",
       "  <tbody>\n",
       "    <tr>\n",
       "      <th>0</th>\n",
       "      <td>50001</td>\n",
       "      <td>1</td>\n",
       "      <td>1.609438</td>\n",
       "      <td>Mobile Phone</td>\n",
       "      <td>3</td>\n",
       "      <td>1.945910</td>\n",
       "      <td>Debit Card</td>\n",
       "      <td>Female</td>\n",
       "      <td>3.0</td>\n",
       "      <td>3.0</td>\n",
       "      <td>Laptop &amp; Accessory</td>\n",
       "      <td>2</td>\n",
       "      <td>Single</td>\n",
       "      <td>2.302585</td>\n",
       "      <td>1</td>\n",
       "      <td>2.484907</td>\n",
       "      <td>1.0</td>\n",
       "      <td>0.693147</td>\n",
       "      <td>1.791759</td>\n",
       "      <td>5.080969</td>\n",
       "    </tr>\n",
       "    <tr>\n",
       "      <th>1</th>\n",
       "      <td>50002</td>\n",
       "      <td>1</td>\n",
       "      <td>NaN</td>\n",
       "      <td>Mobile Phone</td>\n",
       "      <td>1</td>\n",
       "      <td>2.197225</td>\n",
       "      <td>UPI</td>\n",
       "      <td>Male</td>\n",
       "      <td>3.0</td>\n",
       "      <td>4.0</td>\n",
       "      <td>Mobile Phone</td>\n",
       "      <td>3</td>\n",
       "      <td>Single</td>\n",
       "      <td>2.079442</td>\n",
       "      <td>1</td>\n",
       "      <td>2.772589</td>\n",
       "      <td>0.0</td>\n",
       "      <td>0.693147</td>\n",
       "      <td>0.000000</td>\n",
       "      <td>4.803201</td>\n",
       "    </tr>\n",
       "    <tr>\n",
       "      <th>2</th>\n",
       "      <td>50003</td>\n",
       "      <td>1</td>\n",
       "      <td>NaN</td>\n",
       "      <td>Mobile Phone</td>\n",
       "      <td>1</td>\n",
       "      <td>3.433987</td>\n",
       "      <td>Debit Card</td>\n",
       "      <td>Male</td>\n",
       "      <td>2.0</td>\n",
       "      <td>4.0</td>\n",
       "      <td>Mobile Phone</td>\n",
       "      <td>3</td>\n",
       "      <td>Single</td>\n",
       "      <td>1.945910</td>\n",
       "      <td>1</td>\n",
       "      <td>2.708050</td>\n",
       "      <td>0.0</td>\n",
       "      <td>0.693147</td>\n",
       "      <td>1.386294</td>\n",
       "      <td>4.798102</td>\n",
       "    </tr>\n",
       "    <tr>\n",
       "      <th>3</th>\n",
       "      <td>50004</td>\n",
       "      <td>1</td>\n",
       "      <td>0.000000</td>\n",
       "      <td>Mobile Phone</td>\n",
       "      <td>3</td>\n",
       "      <td>2.772589</td>\n",
       "      <td>Debit Card</td>\n",
       "      <td>Male</td>\n",
       "      <td>2.0</td>\n",
       "      <td>4.0</td>\n",
       "      <td>Laptop &amp; Accessory</td>\n",
       "      <td>5</td>\n",
       "      <td>Single</td>\n",
       "      <td>2.197225</td>\n",
       "      <td>0</td>\n",
       "      <td>3.178054</td>\n",
       "      <td>0.0</td>\n",
       "      <td>0.693147</td>\n",
       "      <td>1.386294</td>\n",
       "      <td>4.905793</td>\n",
       "    </tr>\n",
       "    <tr>\n",
       "      <th>4</th>\n",
       "      <td>50005</td>\n",
       "      <td>1</td>\n",
       "      <td>0.000000</td>\n",
       "      <td>Mobile Phone</td>\n",
       "      <td>1</td>\n",
       "      <td>2.564949</td>\n",
       "      <td>Credit Card</td>\n",
       "      <td>Male</td>\n",
       "      <td>NaN</td>\n",
       "      <td>3.0</td>\n",
       "      <td>Mobile Phone</td>\n",
       "      <td>5</td>\n",
       "      <td>Single</td>\n",
       "      <td>1.386294</td>\n",
       "      <td>0</td>\n",
       "      <td>2.484907</td>\n",
       "      <td>1.0</td>\n",
       "      <td>0.693147</td>\n",
       "      <td>1.386294</td>\n",
       "      <td>4.872139</td>\n",
       "    </tr>\n",
       "  </tbody>\n",
       "</table>\n",
       "</div>"
      ],
      "text/plain": [
       "   CustomerID  Churn    Tenure PreferredLoginDevice  CityTier  \\\n",
       "0       50001      1  1.609438         Mobile Phone         3   \n",
       "1       50002      1       NaN         Mobile Phone         1   \n",
       "2       50003      1       NaN         Mobile Phone         1   \n",
       "3       50004      1  0.000000         Mobile Phone         3   \n",
       "4       50005      1  0.000000         Mobile Phone         1   \n",
       "\n",
       "   WarehouseToHome PreferredPaymentMode  Gender  HourSpendOnApp  \\\n",
       "0         1.945910           Debit Card  Female             3.0   \n",
       "1         2.197225                  UPI    Male             3.0   \n",
       "2         3.433987           Debit Card    Male             2.0   \n",
       "3         2.772589           Debit Card    Male             2.0   \n",
       "4         2.564949          Credit Card    Male             NaN   \n",
       "\n",
       "   NumberOfDeviceRegistered    PreferedOrderCat  SatisfactionScore  \\\n",
       "0                       3.0  Laptop & Accessory                  2   \n",
       "1                       4.0        Mobile Phone                  3   \n",
       "2                       4.0        Mobile Phone                  3   \n",
       "3                       4.0  Laptop & Accessory                  5   \n",
       "4                       3.0        Mobile Phone                  5   \n",
       "\n",
       "  MaritalStatus  NumberOfAddress  Complain  OrderAmountHikeFromlastYear  \\\n",
       "0        Single         2.302585         1                     2.484907   \n",
       "1        Single         2.079442         1                     2.772589   \n",
       "2        Single         1.945910         1                     2.708050   \n",
       "3        Single         2.197225         0                     3.178054   \n",
       "4        Single         1.386294         0                     2.484907   \n",
       "\n",
       "   CouponUsed  OrderCount  DaySinceLastOrder  CashbackAmount  \n",
       "0         1.0    0.693147           1.791759        5.080969  \n",
       "1         0.0    0.693147           0.000000        4.803201  \n",
       "2         0.0    0.693147           1.386294        4.798102  \n",
       "3         0.0    0.693147           1.386294        4.905793  \n",
       "4         1.0    0.693147           1.386294        4.872139  "
      ]
     },
     "execution_count": 57,
     "metadata": {},
     "output_type": "execute_result"
    }
   ],
   "source": [
    "df.head()"
   ]
  },
  {
   "cell_type": "code",
   "execution_count": 58,
   "id": "f11c1f60",
   "metadata": {},
   "outputs": [
    {
     "name": "stdout",
     "output_type": "stream",
     "text": [
      "<class 'pandas.core.frame.DataFrame'>\n",
      "RangeIndex: 5630 entries, 0 to 5629\n",
      "Data columns (total 20 columns):\n",
      " #   Column                       Non-Null Count  Dtype  \n",
      "---  ------                       --------------  -----  \n",
      " 0   CustomerID                   5630 non-null   int64  \n",
      " 1   Churn                        5630 non-null   int64  \n",
      " 2   Tenure                       5366 non-null   float64\n",
      " 3   PreferredLoginDevice         5630 non-null   object \n",
      " 4   CityTier                     5630 non-null   int64  \n",
      " 5   WarehouseToHome              5379 non-null   float64\n",
      " 6   PreferredPaymentMode         5630 non-null   object \n",
      " 7   Gender                       5630 non-null   object \n",
      " 8   HourSpendOnApp               5375 non-null   float64\n",
      " 9   NumberOfDeviceRegistered     5630 non-null   float64\n",
      " 10  PreferedOrderCat             5630 non-null   object \n",
      " 11  SatisfactionScore            5630 non-null   int64  \n",
      " 12  MaritalStatus                5630 non-null   object \n",
      " 13  NumberOfAddress              5630 non-null   float64\n",
      " 14  Complain                     5630 non-null   int64  \n",
      " 15  OrderAmountHikeFromlastYear  5365 non-null   float64\n",
      " 16  CouponUsed                   5374 non-null   float64\n",
      " 17  OrderCount                   5372 non-null   float64\n",
      " 18  DaySinceLastOrder            5323 non-null   float64\n",
      " 19  CashbackAmount               5630 non-null   float64\n",
      "dtypes: float64(10), int64(5), object(5)\n",
      "memory usage: 879.8+ KB\n"
     ]
    }
   ],
   "source": [
    "df.info()"
   ]
  },
  {
   "cell_type": "code",
   "execution_count": 59,
   "id": "f2be796a",
   "metadata": {},
   "outputs": [],
   "source": [
    "df = pd.get_dummies(df, drop_first = True)"
   ]
  },
  {
   "cell_type": "code",
   "execution_count": 60,
   "id": "ab25fe1b",
   "metadata": {},
   "outputs": [
    {
     "data": {
      "text/html": [
       "<div>\n",
       "<style scoped>\n",
       "    .dataframe tbody tr th:only-of-type {\n",
       "        vertical-align: middle;\n",
       "    }\n",
       "\n",
       "    .dataframe tbody tr th {\n",
       "        vertical-align: top;\n",
       "    }\n",
       "\n",
       "    .dataframe thead th {\n",
       "        text-align: right;\n",
       "    }\n",
       "</style>\n",
       "<table border=\"1\" class=\"dataframe\">\n",
       "  <thead>\n",
       "    <tr style=\"text-align: right;\">\n",
       "      <th></th>\n",
       "      <th>CustomerID</th>\n",
       "      <th>Churn</th>\n",
       "      <th>Tenure</th>\n",
       "      <th>CityTier</th>\n",
       "      <th>WarehouseToHome</th>\n",
       "      <th>HourSpendOnApp</th>\n",
       "      <th>NumberOfDeviceRegistered</th>\n",
       "      <th>SatisfactionScore</th>\n",
       "      <th>NumberOfAddress</th>\n",
       "      <th>Complain</th>\n",
       "      <th>OrderAmountHikeFromlastYear</th>\n",
       "      <th>CouponUsed</th>\n",
       "      <th>OrderCount</th>\n",
       "      <th>DaySinceLastOrder</th>\n",
       "      <th>CashbackAmount</th>\n",
       "      <th>PreferredLoginDevice_Mobile Phone</th>\n",
       "      <th>PreferredPaymentMode_Credit Card</th>\n",
       "      <th>PreferredPaymentMode_Debit Card</th>\n",
       "      <th>PreferredPaymentMode_E wallet</th>\n",
       "      <th>PreferredPaymentMode_UPI</th>\n",
       "      <th>Gender_Male</th>\n",
       "      <th>PreferedOrderCat_Grocery</th>\n",
       "      <th>PreferedOrderCat_Laptop &amp; Accessory</th>\n",
       "      <th>PreferedOrderCat_Mobile Phone</th>\n",
       "      <th>PreferedOrderCat_Others</th>\n",
       "      <th>MaritalStatus_Married</th>\n",
       "      <th>MaritalStatus_Single</th>\n",
       "    </tr>\n",
       "  </thead>\n",
       "  <tbody>\n",
       "    <tr>\n",
       "      <th>0</th>\n",
       "      <td>50001</td>\n",
       "      <td>1</td>\n",
       "      <td>1.609438</td>\n",
       "      <td>3</td>\n",
       "      <td>1.945910</td>\n",
       "      <td>3.0</td>\n",
       "      <td>3.0</td>\n",
       "      <td>2</td>\n",
       "      <td>2.302585</td>\n",
       "      <td>1</td>\n",
       "      <td>2.484907</td>\n",
       "      <td>1.0</td>\n",
       "      <td>0.693147</td>\n",
       "      <td>1.791759</td>\n",
       "      <td>5.080969</td>\n",
       "      <td>1</td>\n",
       "      <td>0</td>\n",
       "      <td>1</td>\n",
       "      <td>0</td>\n",
       "      <td>0</td>\n",
       "      <td>0</td>\n",
       "      <td>0</td>\n",
       "      <td>1</td>\n",
       "      <td>0</td>\n",
       "      <td>0</td>\n",
       "      <td>0</td>\n",
       "      <td>1</td>\n",
       "    </tr>\n",
       "    <tr>\n",
       "      <th>1</th>\n",
       "      <td>50002</td>\n",
       "      <td>1</td>\n",
       "      <td>NaN</td>\n",
       "      <td>1</td>\n",
       "      <td>2.197225</td>\n",
       "      <td>3.0</td>\n",
       "      <td>4.0</td>\n",
       "      <td>3</td>\n",
       "      <td>2.079442</td>\n",
       "      <td>1</td>\n",
       "      <td>2.772589</td>\n",
       "      <td>0.0</td>\n",
       "      <td>0.693147</td>\n",
       "      <td>0.000000</td>\n",
       "      <td>4.803201</td>\n",
       "      <td>1</td>\n",
       "      <td>0</td>\n",
       "      <td>0</td>\n",
       "      <td>0</td>\n",
       "      <td>1</td>\n",
       "      <td>1</td>\n",
       "      <td>0</td>\n",
       "      <td>0</td>\n",
       "      <td>1</td>\n",
       "      <td>0</td>\n",
       "      <td>0</td>\n",
       "      <td>1</td>\n",
       "    </tr>\n",
       "    <tr>\n",
       "      <th>2</th>\n",
       "      <td>50003</td>\n",
       "      <td>1</td>\n",
       "      <td>NaN</td>\n",
       "      <td>1</td>\n",
       "      <td>3.433987</td>\n",
       "      <td>2.0</td>\n",
       "      <td>4.0</td>\n",
       "      <td>3</td>\n",
       "      <td>1.945910</td>\n",
       "      <td>1</td>\n",
       "      <td>2.708050</td>\n",
       "      <td>0.0</td>\n",
       "      <td>0.693147</td>\n",
       "      <td>1.386294</td>\n",
       "      <td>4.798102</td>\n",
       "      <td>1</td>\n",
       "      <td>0</td>\n",
       "      <td>1</td>\n",
       "      <td>0</td>\n",
       "      <td>0</td>\n",
       "      <td>1</td>\n",
       "      <td>0</td>\n",
       "      <td>0</td>\n",
       "      <td>1</td>\n",
       "      <td>0</td>\n",
       "      <td>0</td>\n",
       "      <td>1</td>\n",
       "    </tr>\n",
       "    <tr>\n",
       "      <th>3</th>\n",
       "      <td>50004</td>\n",
       "      <td>1</td>\n",
       "      <td>0.000000</td>\n",
       "      <td>3</td>\n",
       "      <td>2.772589</td>\n",
       "      <td>2.0</td>\n",
       "      <td>4.0</td>\n",
       "      <td>5</td>\n",
       "      <td>2.197225</td>\n",
       "      <td>0</td>\n",
       "      <td>3.178054</td>\n",
       "      <td>0.0</td>\n",
       "      <td>0.693147</td>\n",
       "      <td>1.386294</td>\n",
       "      <td>4.905793</td>\n",
       "      <td>1</td>\n",
       "      <td>0</td>\n",
       "      <td>1</td>\n",
       "      <td>0</td>\n",
       "      <td>0</td>\n",
       "      <td>1</td>\n",
       "      <td>0</td>\n",
       "      <td>1</td>\n",
       "      <td>0</td>\n",
       "      <td>0</td>\n",
       "      <td>0</td>\n",
       "      <td>1</td>\n",
       "    </tr>\n",
       "    <tr>\n",
       "      <th>4</th>\n",
       "      <td>50005</td>\n",
       "      <td>1</td>\n",
       "      <td>0.000000</td>\n",
       "      <td>1</td>\n",
       "      <td>2.564949</td>\n",
       "      <td>NaN</td>\n",
       "      <td>3.0</td>\n",
       "      <td>5</td>\n",
       "      <td>1.386294</td>\n",
       "      <td>0</td>\n",
       "      <td>2.484907</td>\n",
       "      <td>1.0</td>\n",
       "      <td>0.693147</td>\n",
       "      <td>1.386294</td>\n",
       "      <td>4.872139</td>\n",
       "      <td>1</td>\n",
       "      <td>1</td>\n",
       "      <td>0</td>\n",
       "      <td>0</td>\n",
       "      <td>0</td>\n",
       "      <td>1</td>\n",
       "      <td>0</td>\n",
       "      <td>0</td>\n",
       "      <td>1</td>\n",
       "      <td>0</td>\n",
       "      <td>0</td>\n",
       "      <td>1</td>\n",
       "    </tr>\n",
       "  </tbody>\n",
       "</table>\n",
       "</div>"
      ],
      "text/plain": [
       "   CustomerID  Churn    Tenure  CityTier  WarehouseToHome  HourSpendOnApp  \\\n",
       "0       50001      1  1.609438         3         1.945910             3.0   \n",
       "1       50002      1       NaN         1         2.197225             3.0   \n",
       "2       50003      1       NaN         1         3.433987             2.0   \n",
       "3       50004      1  0.000000         3         2.772589             2.0   \n",
       "4       50005      1  0.000000         1         2.564949             NaN   \n",
       "\n",
       "   NumberOfDeviceRegistered  SatisfactionScore  NumberOfAddress  Complain  \\\n",
       "0                       3.0                  2         2.302585         1   \n",
       "1                       4.0                  3         2.079442         1   \n",
       "2                       4.0                  3         1.945910         1   \n",
       "3                       4.0                  5         2.197225         0   \n",
       "4                       3.0                  5         1.386294         0   \n",
       "\n",
       "   OrderAmountHikeFromlastYear  CouponUsed  OrderCount  DaySinceLastOrder  \\\n",
       "0                     2.484907         1.0    0.693147           1.791759   \n",
       "1                     2.772589         0.0    0.693147           0.000000   \n",
       "2                     2.708050         0.0    0.693147           1.386294   \n",
       "3                     3.178054         0.0    0.693147           1.386294   \n",
       "4                     2.484907         1.0    0.693147           1.386294   \n",
       "\n",
       "   CashbackAmount  PreferredLoginDevice_Mobile Phone  \\\n",
       "0        5.080969                                  1   \n",
       "1        4.803201                                  1   \n",
       "2        4.798102                                  1   \n",
       "3        4.905793                                  1   \n",
       "4        4.872139                                  1   \n",
       "\n",
       "   PreferredPaymentMode_Credit Card  PreferredPaymentMode_Debit Card  \\\n",
       "0                                 0                                1   \n",
       "1                                 0                                0   \n",
       "2                                 0                                1   \n",
       "3                                 0                                1   \n",
       "4                                 1                                0   \n",
       "\n",
       "   PreferredPaymentMode_E wallet  PreferredPaymentMode_UPI  Gender_Male  \\\n",
       "0                              0                         0            0   \n",
       "1                              0                         1            1   \n",
       "2                              0                         0            1   \n",
       "3                              0                         0            1   \n",
       "4                              0                         0            1   \n",
       "\n",
       "   PreferedOrderCat_Grocery  PreferedOrderCat_Laptop & Accessory  \\\n",
       "0                         0                                    1   \n",
       "1                         0                                    0   \n",
       "2                         0                                    0   \n",
       "3                         0                                    1   \n",
       "4                         0                                    0   \n",
       "\n",
       "   PreferedOrderCat_Mobile Phone  PreferedOrderCat_Others  \\\n",
       "0                              0                        0   \n",
       "1                              1                        0   \n",
       "2                              1                        0   \n",
       "3                              0                        0   \n",
       "4                              1                        0   \n",
       "\n",
       "   MaritalStatus_Married  MaritalStatus_Single  \n",
       "0                      0                     1  \n",
       "1                      0                     1  \n",
       "2                      0                     1  \n",
       "3                      0                     1  \n",
       "4                      0                     1  "
      ]
     },
     "execution_count": 60,
     "metadata": {},
     "output_type": "execute_result"
    }
   ],
   "source": [
    "df.head()"
   ]
  },
  {
   "cell_type": "code",
   "execution_count": 61,
   "id": "336d060d",
   "metadata": {},
   "outputs": [],
   "source": [
    "Y_dependent = df['Churn']"
   ]
  },
  {
   "cell_type": "code",
   "execution_count": 62,
   "id": "a004834f",
   "metadata": {},
   "outputs": [],
   "source": [
    "X_independent = df.drop(['Churn','CustomerID'],axis =1)"
   ]
  },
  {
   "cell_type": "code",
   "execution_count": 63,
   "id": "6a5401f6",
   "metadata": {},
   "outputs": [
    {
     "data": {
      "text/plain": [
       "0    1\n",
       "1    1\n",
       "2    1\n",
       "3    1\n",
       "4    1\n",
       "Name: Churn, dtype: int64"
      ]
     },
     "execution_count": 63,
     "metadata": {},
     "output_type": "execute_result"
    }
   ],
   "source": [
    "Y_dependent.head()"
   ]
  },
  {
   "cell_type": "code",
   "execution_count": null,
   "id": "44fc234f",
   "metadata": {},
   "outputs": [],
   "source": []
  },
  {
   "cell_type": "code",
   "execution_count": 64,
   "id": "6b9d849e",
   "metadata": {},
   "outputs": [],
   "source": [
    "from sklearn.model_selection import train_test_split\n",
    "from sklearn.preprocessing import StandardScaler"
   ]
  },
  {
   "cell_type": "markdown",
   "id": "9d33dc86",
   "metadata": {},
   "source": [
    "&nbsp;"
   ]
  },
  {
   "cell_type": "markdown",
   "id": "614fb0a7",
   "metadata": {},
   "source": [
    "__Train test split__"
   ]
  },
  {
   "cell_type": "code",
   "execution_count": 65,
   "id": "69c6941e",
   "metadata": {},
   "outputs": [],
   "source": [
    "x_train, x_test, y_train, y_test = train_test_split(X_independent, Y_dependent, test_size=0.25, random_state=101)"
   ]
  },
  {
   "cell_type": "markdown",
   "id": "1f5f4380",
   "metadata": {},
   "source": [
    "&nbsp;"
   ]
  },
  {
   "cell_type": "markdown",
   "id": "7da82ff8",
   "metadata": {},
   "source": [
    "__Scaling independent features__"
   ]
  },
  {
   "cell_type": "code",
   "execution_count": 66,
   "id": "c24145c1",
   "metadata": {},
   "outputs": [],
   "source": [
    "scale = StandardScaler()"
   ]
  },
  {
   "cell_type": "code",
   "execution_count": 67,
   "id": "c8c58e86",
   "metadata": {},
   "outputs": [],
   "source": [
    "scaled_xtrain = scale.fit_transform(x_train)"
   ]
  },
  {
   "cell_type": "code",
   "execution_count": 68,
   "id": "26285700",
   "metadata": {},
   "outputs": [],
   "source": [
    "scaled_xtest = scale.transform(x_test)"
   ]
  },
  {
   "cell_type": "markdown",
   "id": "e7781135",
   "metadata": {},
   "source": [
    "&nbsp;\n"
   ]
  },
  {
   "cell_type": "code",
   "execution_count": 69,
   "id": "6f2a05d9",
   "metadata": {},
   "outputs": [],
   "source": [
    "from sklearn.impute import KNNImputer"
   ]
  },
  {
   "cell_type": "code",
   "execution_count": 70,
   "id": "39bc51d1",
   "metadata": {},
   "outputs": [],
   "source": [
    "imputer = KNNImputer(n_neighbors=5)"
   ]
  },
  {
   "cell_type": "markdown",
   "id": "b27b67db",
   "metadata": {},
   "source": [
    "&nbsp;"
   ]
  },
  {
   "cell_type": "code",
   "execution_count": 71,
   "id": "d45c74fe",
   "metadata": {},
   "outputs": [],
   "source": [
    "f_scaled_xtrain = imputer.fit_transform(scaled_xtrain)"
   ]
  },
  {
   "cell_type": "code",
   "execution_count": 72,
   "id": "db03698f",
   "metadata": {},
   "outputs": [],
   "source": [
    "f_scaled_xtest = imputer.transform(scaled_xtest)"
   ]
  },
  {
   "cell_type": "code",
   "execution_count": null,
   "id": "f1ebf6ba",
   "metadata": {},
   "outputs": [],
   "source": []
  },
  {
   "cell_type": "markdown",
   "id": "8b40c5ef",
   "metadata": {},
   "source": [
    "__For Cross-Validation, whole dataset will be provided to model so applying  knn imputer on whole dataset after scaling__"
   ]
  },
  {
   "cell_type": "code",
   "execution_count": 73,
   "id": "86bc1ad8",
   "metadata": {},
   "outputs": [],
   "source": [
    "scale1 = StandardScaler()"
   ]
  },
  {
   "cell_type": "code",
   "execution_count": 74,
   "id": "99047ccb",
   "metadata": {},
   "outputs": [],
   "source": [
    "scaled_x = scale1.fit_transform(X_independent)"
   ]
  },
  {
   "cell_type": "code",
   "execution_count": 75,
   "id": "bbde52df",
   "metadata": {},
   "outputs": [],
   "source": [
    "imputer1 = KNNImputer(n_neighbors = 5)"
   ]
  },
  {
   "cell_type": "code",
   "execution_count": 76,
   "id": "5f0eb220",
   "metadata": {},
   "outputs": [],
   "source": [
    "cv_total_x = imputer1.fit_transform(scaled_x)"
   ]
  },
  {
   "cell_type": "markdown",
   "id": "790033ad",
   "metadata": {},
   "source": [
    "&nbsp;"
   ]
  },
  {
   "cell_type": "markdown",
   "id": "08921934",
   "metadata": {},
   "source": [
    "### Logistic Regression"
   ]
  },
  {
   "cell_type": "markdown",
   "id": "59341b43",
   "metadata": {},
   "source": [
    "__According to our problem statement, our main focus was to correctly predict customers who are going to churn.__\n",
    "- so acc to problem statement, we have to focus on to reduce false negative, so we will focus on __recall__ rather <br> than accuracy of our model."
   ]
  },
  {
   "cell_type": "code",
   "execution_count": 78,
   "id": "8c31ae88",
   "metadata": {},
   "outputs": [],
   "source": [
    "from sklearn.linear_model import LogisticRegression"
   ]
  },
  {
   "cell_type": "code",
   "execution_count": 79,
   "id": "cac289e5",
   "metadata": {},
   "outputs": [],
   "source": [
    "logst = LogisticRegression()"
   ]
  },
  {
   "cell_type": "code",
   "execution_count": 83,
   "id": "8b98a229",
   "metadata": {},
   "outputs": [
    {
     "data": {
      "text/html": [
       "<style>#sk-container-id-1 {color: black;background-color: white;}#sk-container-id-1 pre{padding: 0;}#sk-container-id-1 div.sk-toggleable {background-color: white;}#sk-container-id-1 label.sk-toggleable__label {cursor: pointer;display: block;width: 100%;margin-bottom: 0;padding: 0.3em;box-sizing: border-box;text-align: center;}#sk-container-id-1 label.sk-toggleable__label-arrow:before {content: \"▸\";float: left;margin-right: 0.25em;color: #696969;}#sk-container-id-1 label.sk-toggleable__label-arrow:hover:before {color: black;}#sk-container-id-1 div.sk-estimator:hover label.sk-toggleable__label-arrow:before {color: black;}#sk-container-id-1 div.sk-toggleable__content {max-height: 0;max-width: 0;overflow: hidden;text-align: left;background-color: #f0f8ff;}#sk-container-id-1 div.sk-toggleable__content pre {margin: 0.2em;color: black;border-radius: 0.25em;background-color: #f0f8ff;}#sk-container-id-1 input.sk-toggleable__control:checked~div.sk-toggleable__content {max-height: 200px;max-width: 100%;overflow: auto;}#sk-container-id-1 input.sk-toggleable__control:checked~label.sk-toggleable__label-arrow:before {content: \"▾\";}#sk-container-id-1 div.sk-estimator input.sk-toggleable__control:checked~label.sk-toggleable__label {background-color: #d4ebff;}#sk-container-id-1 div.sk-label input.sk-toggleable__control:checked~label.sk-toggleable__label {background-color: #d4ebff;}#sk-container-id-1 input.sk-hidden--visually {border: 0;clip: rect(1px 1px 1px 1px);clip: rect(1px, 1px, 1px, 1px);height: 1px;margin: -1px;overflow: hidden;padding: 0;position: absolute;width: 1px;}#sk-container-id-1 div.sk-estimator {font-family: monospace;background-color: #f0f8ff;border: 1px dotted black;border-radius: 0.25em;box-sizing: border-box;margin-bottom: 0.5em;}#sk-container-id-1 div.sk-estimator:hover {background-color: #d4ebff;}#sk-container-id-1 div.sk-parallel-item::after {content: \"\";width: 100%;border-bottom: 1px solid gray;flex-grow: 1;}#sk-container-id-1 div.sk-label:hover label.sk-toggleable__label {background-color: #d4ebff;}#sk-container-id-1 div.sk-serial::before {content: \"\";position: absolute;border-left: 1px solid gray;box-sizing: border-box;top: 0;bottom: 0;left: 50%;z-index: 0;}#sk-container-id-1 div.sk-serial {display: flex;flex-direction: column;align-items: center;background-color: white;padding-right: 0.2em;padding-left: 0.2em;position: relative;}#sk-container-id-1 div.sk-item {position: relative;z-index: 1;}#sk-container-id-1 div.sk-parallel {display: flex;align-items: stretch;justify-content: center;background-color: white;position: relative;}#sk-container-id-1 div.sk-item::before, #sk-container-id-1 div.sk-parallel-item::before {content: \"\";position: absolute;border-left: 1px solid gray;box-sizing: border-box;top: 0;bottom: 0;left: 50%;z-index: -1;}#sk-container-id-1 div.sk-parallel-item {display: flex;flex-direction: column;z-index: 1;position: relative;background-color: white;}#sk-container-id-1 div.sk-parallel-item:first-child::after {align-self: flex-end;width: 50%;}#sk-container-id-1 div.sk-parallel-item:last-child::after {align-self: flex-start;width: 50%;}#sk-container-id-1 div.sk-parallel-item:only-child::after {width: 0;}#sk-container-id-1 div.sk-dashed-wrapped {border: 1px dashed gray;margin: 0 0.4em 0.5em 0.4em;box-sizing: border-box;padding-bottom: 0.4em;background-color: white;}#sk-container-id-1 div.sk-label label {font-family: monospace;font-weight: bold;display: inline-block;line-height: 1.2em;}#sk-container-id-1 div.sk-label-container {text-align: center;}#sk-container-id-1 div.sk-container {/* jupyter's `normalize.less` sets `[hidden] { display: none; }` but bootstrap.min.css set `[hidden] { display: none !important; }` so we also need the `!important` here to be able to override the default hidden behavior on the sphinx rendered scikit-learn.org. See: https://github.com/scikit-learn/scikit-learn/issues/21755 */display: inline-block !important;position: relative;}#sk-container-id-1 div.sk-text-repr-fallback {display: none;}</style><div id=\"sk-container-id-1\" class=\"sk-top-container\"><div class=\"sk-text-repr-fallback\"><pre>LogisticRegression()</pre><b>In a Jupyter environment, please rerun this cell to show the HTML representation or trust the notebook. <br />On GitHub, the HTML representation is unable to render, please try loading this page with nbviewer.org.</b></div><div class=\"sk-container\" hidden><div class=\"sk-item\"><div class=\"sk-estimator sk-toggleable\"><input class=\"sk-toggleable__control sk-hidden--visually\" id=\"sk-estimator-id-1\" type=\"checkbox\" checked><label for=\"sk-estimator-id-1\" class=\"sk-toggleable__label sk-toggleable__label-arrow\">LogisticRegression</label><div class=\"sk-toggleable__content\"><pre>LogisticRegression()</pre></div></div></div></div></div>"
      ],
      "text/plain": [
       "LogisticRegression()"
      ]
     },
     "execution_count": 83,
     "metadata": {},
     "output_type": "execute_result"
    }
   ],
   "source": [
    "logst.fit(f_scaled_xtrain,y_train)"
   ]
  },
  {
   "cell_type": "code",
   "execution_count": 84,
   "id": "dc5f6a05",
   "metadata": {},
   "outputs": [],
   "source": [
    "y_predicted = logst.predict(f_scaled_xtest)"
   ]
  },
  {
   "cell_type": "markdown",
   "id": "38b97bc8",
   "metadata": {},
   "source": [
    "&nbsp;"
   ]
  },
  {
   "cell_type": "code",
   "execution_count": 85,
   "id": "ecd87b31",
   "metadata": {},
   "outputs": [],
   "source": [
    "from sklearn.metrics import accuracy_score,confusion_matrix,classification_report"
   ]
  },
  {
   "cell_type": "code",
   "execution_count": 88,
   "id": "421046d9",
   "metadata": {
    "scrolled": false
   },
   "outputs": [
    {
     "name": "stdout",
     "output_type": "stream",
     "text": [
      "[[1138   40]\n",
      " [  89  141]]\n"
     ]
    },
    {
     "data": {
      "text/plain": [
       "<AxesSubplot:>"
      ]
     },
     "execution_count": 88,
     "metadata": {},
     "output_type": "execute_result"
    },
    {
     "data": {
      "image/png": "[encoded data removed]",
      "text/plain": [
       "<Figure size 720x360 with 2 Axes>"
      ]
     },
     "metadata": {},
     "output_type": "display_data"
    }
   ],
   "source": [
    "sns.set(rc={'figure.figsize':(10,5)})\n",
    "print(confusion_matrix(y_test,y_predicted))\n",
    "sns.heatmap(confusion_matrix(y_test,y_predicted), annot = True)"
   ]
  },
  {
   "cell_type": "code",
   "execution_count": 89,
   "id": "64269877",
   "metadata": {},
   "outputs": [],
   "source": [
    "accuracy = accuracy_score(y_test,y_predicted)"
   ]
  },
  {
   "cell_type": "code",
   "execution_count": 90,
   "id": "a1547fc4",
   "metadata": {},
   "outputs": [
    {
     "data": {
      "text/plain": [
       "0.9083806818181818"
      ]
     },
     "execution_count": 90,
     "metadata": {},
     "output_type": "execute_result"
    }
   ],
   "source": [
    "accuracy"
   ]
  },
  {
   "cell_type": "markdown",
   "id": "e3b0b0f2",
   "metadata": {},
   "source": [
    "- accuracy on test data = 90.85%\n",
    "- accuracy on train data = 89.78%"
   ]
  },
  {
   "cell_type": "code",
   "execution_count": 110,
   "id": "4cca98b3",
   "metadata": {},
   "outputs": [
    {
     "name": "stdout",
     "output_type": "stream",
     "text": [
      "              precision    recall  f1-score   support\n",
      "\n",
      "   not churn       0.93      0.97      0.95      1178\n",
      "       churn       0.78      0.61      0.69       230\n",
      "\n",
      "    accuracy                           0.91      1408\n",
      "   macro avg       0.85      0.79      0.82      1408\n",
      "weighted avg       0.90      0.91      0.90      1408\n",
      "\n"
     ]
    }
   ],
   "source": [
    "print(classification_report(y_test,y_predicted, target_names=['not churn','churn']))"
   ]
  },
  {
   "cell_type": "markdown",
   "id": "72b4c95c",
   "metadata": {},
   "source": [
    "&nbsp;"
   ]
  },
  {
   "cell_type": "markdown",
   "id": "e07f4f1f",
   "metadata": {},
   "source": [
    "__Size of train and tests data__"
   ]
  },
  {
   "cell_type": "code",
   "execution_count": 91,
   "id": "2fdde45c",
   "metadata": {},
   "outputs": [
    {
     "data": {
      "text/plain": [
       "Churn\n",
       "0        3504\n",
       "1         718\n",
       "dtype: int64"
      ]
     },
     "execution_count": 91,
     "metadata": {},
     "output_type": "execute_result"
    }
   ],
   "source": [
    "pd.DataFrame(y_train).value_counts()"
   ]
  },
  {
   "cell_type": "code",
   "execution_count": 109,
   "id": "e840a097",
   "metadata": {},
   "outputs": [
    {
     "data": {
      "text/plain": [
       "Churn\n",
       "0        1178\n",
       "1         230\n",
       "dtype: int64"
      ]
     },
     "execution_count": 109,
     "metadata": {},
     "output_type": "execute_result"
    }
   ],
   "source": [
    "pd.DataFrame(y_test).value_counts()"
   ]
  },
  {
   "cell_type": "markdown",
   "id": "a7cbddb7",
   "metadata": {},
   "source": [
    "&nbsp;"
   ]
  },
  {
   "cell_type": "markdown",
   "id": "f30104ad",
   "metadata": {},
   "source": [
    "### Performing smote on the imbalnced dataset\n",
    "- we should not use imbalanced dataset for training because it may happen that model get baised toward majority class.\n",
    "\n",
    "__83% are 0 and 17% are 1__\n",
    "- Since dataset are small, so we can balanced this dataset by oversampling minority class i.e creating synthetic data , it works by randomly picking a point from the minority class and computing the k-nearest neighbors for this point. The synthetic points are added between the chosen point and its neighbors."
   ]
  },
  {
   "cell_type": "code",
   "execution_count": 92,
   "id": "89d69b66",
   "metadata": {},
   "outputs": [],
   "source": [
    "from imblearn.over_sampling import SMOTE"
   ]
  },
  {
   "cell_type": "code",
   "execution_count": 93,
   "id": "6014f156",
   "metadata": {},
   "outputs": [],
   "source": [
    "sm =SMOTE(random_state =42)"
   ]
  },
  {
   "cell_type": "code",
   "execution_count": 94,
   "id": "07e1602d",
   "metadata": {},
   "outputs": [],
   "source": [
    "bal_x_train,bal_y_train =sm.fit_resample(f_scaled_xtrain,y_train)"
   ]
  },
  {
   "cell_type": "code",
   "execution_count": 95,
   "id": "f4db915b",
   "metadata": {},
   "outputs": [
    {
     "data": {
      "text/plain": [
       "Churn\n",
       "0        3504\n",
       "1        3504\n",
       "dtype: int64"
      ]
     },
     "execution_count": 95,
     "metadata": {},
     "output_type": "execute_result"
    }
   ],
   "source": [
    "pd.DataFrame(bal_y_train).value_counts()"
   ]
  },
  {
   "cell_type": "markdown",
   "id": "7088bb85",
   "metadata": {},
   "source": [
    "- __After performing smote, now the classes are in equall proportion__"
   ]
  },
  {
   "cell_type": "markdown",
   "id": "fac4dd8c",
   "metadata": {},
   "source": [
    "&nbsp;"
   ]
  },
  {
   "cell_type": "code",
   "execution_count": 96,
   "id": "66f7d984",
   "metadata": {},
   "outputs": [],
   "source": [
    "sm_logistic = LogisticRegression()"
   ]
  },
  {
   "cell_type": "code",
   "execution_count": 97,
   "id": "76fb92a4",
   "metadata": {},
   "outputs": [
    {
     "data": {
      "text/html": [
       "<style>#sk-container-id-2 {color: black;background-color: white;}#sk-container-id-2 pre{padding: 0;}#sk-container-id-2 div.sk-toggleable {background-color: white;}#sk-container-id-2 label.sk-toggleable__label {cursor: pointer;display: block;width: 100%;margin-bottom: 0;padding: 0.3em;box-sizing: border-box;text-align: center;}#sk-container-id-2 label.sk-toggleable__label-arrow:before {content: \"▸\";float: left;margin-right: 0.25em;color: #696969;}#sk-container-id-2 label.sk-toggleable__label-arrow:hover:before {color: black;}#sk-container-id-2 div.sk-estimator:hover label.sk-toggleable__label-arrow:before {color: black;}#sk-container-id-2 div.sk-toggleable__content {max-height: 0;max-width: 0;overflow: hidden;text-align: left;background-color: #f0f8ff;}#sk-container-id-2 div.sk-toggleable__content pre {margin: 0.2em;color: black;border-radius: 0.25em;background-color: #f0f8ff;}#sk-container-id-2 input.sk-toggleable__control:checked~div.sk-toggleable__content {max-height: 200px;max-width: 100%;overflow: auto;}#sk-container-id-2 input.sk-toggleable__control:checked~label.sk-toggleable__label-arrow:before {content: \"▾\";}#sk-container-id-2 div.sk-estimator input.sk-toggleable__control:checked~label.sk-toggleable__label {background-color: #d4ebff;}#sk-container-id-2 div.sk-label input.sk-toggleable__control:checked~label.sk-toggleable__label {background-color: #d4ebff;}#sk-container-id-2 input.sk-hidden--visually {border: 0;clip: rect(1px 1px 1px 1px);clip: rect(1px, 1px, 1px, 1px);height: 1px;margin: -1px;overflow: hidden;padding: 0;position: absolute;width: 1px;}#sk-container-id-2 div.sk-estimator {font-family: monospace;background-color: #f0f8ff;border: 1px dotted black;border-radius: 0.25em;box-sizing: border-box;margin-bottom: 0.5em;}#sk-container-id-2 div.sk-estimator:hover {background-color: #d4ebff;}#sk-container-id-2 div.sk-parallel-item::after {content: \"\";width: 100%;border-bottom: 1px solid gray;flex-grow: 1;}#sk-container-id-2 div.sk-label:hover label.sk-toggleable__label {background-color: #d4ebff;}#sk-container-id-2 div.sk-serial::before {content: \"\";position: absolute;border-left: 1px solid gray;box-sizing: border-box;top: 0;bottom: 0;left: 50%;z-index: 0;}#sk-container-id-2 div.sk-serial {display: flex;flex-direction: column;align-items: center;background-color: white;padding-right: 0.2em;padding-left: 0.2em;position: relative;}#sk-container-id-2 div.sk-item {position: relative;z-index: 1;}#sk-container-id-2 div.sk-parallel {display: flex;align-items: stretch;justify-content: center;background-color: white;position: relative;}#sk-container-id-2 div.sk-item::before, #sk-container-id-2 div.sk-parallel-item::before {content: \"\";position: absolute;border-left: 1px solid gray;box-sizing: border-box;top: 0;bottom: 0;left: 50%;z-index: -1;}#sk-container-id-2 div.sk-parallel-item {display: flex;flex-direction: column;z-index: 1;position: relative;background-color: white;}#sk-container-id-2 div.sk-parallel-item:first-child::after {align-self: flex-end;width: 50%;}#sk-container-id-2 div.sk-parallel-item:last-child::after {align-self: flex-start;width: 50%;}#sk-container-id-2 div.sk-parallel-item:only-child::after {width: 0;}#sk-container-id-2 div.sk-dashed-wrapped {border: 1px dashed gray;margin: 0 0.4em 0.5em 0.4em;box-sizing: border-box;padding-bottom: 0.4em;background-color: white;}#sk-container-id-2 div.sk-label label {font-family: monospace;font-weight: bold;display: inline-block;line-height: 1.2em;}#sk-container-id-2 div.sk-label-container {text-align: center;}#sk-container-id-2 div.sk-container {/* jupyter's `normalize.less` sets `[hidden] { display: none; }` but bootstrap.min.css set `[hidden] { display: none !important; }` so we also need the `!important` here to be able to override the default hidden behavior on the sphinx rendered scikit-learn.org. See: https://github.com/scikit-learn/scikit-learn/issues/21755 */display: inline-block !important;position: relative;}#sk-container-id-2 div.sk-text-repr-fallback {display: none;}</style><div id=\"sk-container-id-2\" class=\"sk-top-container\"><div class=\"sk-text-repr-fallback\"><pre>LogisticRegression()</pre><b>In a Jupyter environment, please rerun this cell to show the HTML representation or trust the notebook. <br />On GitHub, the HTML representation is unable to render, please try loading this page with nbviewer.org.</b></div><div class=\"sk-container\" hidden><div class=\"sk-item\"><div class=\"sk-estimator sk-toggleable\"><input class=\"sk-toggleable__control sk-hidden--visually\" id=\"sk-estimator-id-2\" type=\"checkbox\" checked><label for=\"sk-estimator-id-2\" class=\"sk-toggleable__label sk-toggleable__label-arrow\">LogisticRegression</label><div class=\"sk-toggleable__content\"><pre>LogisticRegression()</pre></div></div></div></div></div>"
      ],
      "text/plain": [
       "LogisticRegression()"
      ]
     },
     "execution_count": 97,
     "metadata": {},
     "output_type": "execute_result"
    }
   ],
   "source": [
    "sm_logistic.fit(bal_x_train,bal_y_train)"
   ]
  },
  {
   "cell_type": "code",
   "execution_count": 98,
   "id": "45e731f4",
   "metadata": {},
   "outputs": [],
   "source": [
    "y_pre = sm_logistic.predict(f_scaled_xtest)"
   ]
  },
  {
   "cell_type": "markdown",
   "id": "34a7589d",
   "metadata": {},
   "source": [
    "&nbsp;"
   ]
  },
  {
   "cell_type": "code",
   "execution_count": 100,
   "id": "307816a6",
   "metadata": {},
   "outputs": [
    {
     "name": "stdout",
     "output_type": "stream",
     "text": [
      "[[991 187]\n",
      " [ 33 197]]\n"
     ]
    },
    {
     "data": {
      "text/plain": [
       "<AxesSubplot:>"
      ]
     },
     "execution_count": 100,
     "metadata": {},
     "output_type": "execute_result"
    },
    {
     "data": {
      "image/png": "[encoded data removed]",
      "text/plain": [
       "<Figure size 720x360 with 2 Axes>"
      ]
     },
     "metadata": {},
     "output_type": "display_data"
    }
   ],
   "source": [
    "sns.set(rc={'figure.figsize':(10,5)})\n",
    "print(confusion_matrix(y_test,y_pre))\n",
    "sns.heatmap(confusion_matrix(y_test,y_pre), annot = True)"
   ]
  },
  {
   "cell_type": "code",
   "execution_count": 99,
   "id": "9fcf87ad",
   "metadata": {},
   "outputs": [
    {
     "data": {
      "text/plain": [
       "0.84375"
      ]
     },
     "execution_count": 99,
     "metadata": {},
     "output_type": "execute_result"
    }
   ],
   "source": [
    "accuracy_score(y_test,y_pre)"
   ]
  },
  {
   "cell_type": "markdown",
   "id": "8ed6f89e",
   "metadata": {},
   "source": [
    "model accuracy on train data = 83.20%\n",
    "model accuracy on test data = 84.37%"
   ]
  },
  {
   "cell_type": "code",
   "execution_count": 101,
   "id": "167ddd5d",
   "metadata": {},
   "outputs": [
    {
     "name": "stdout",
     "output_type": "stream",
     "text": [
      "              precision    recall  f1-score   support\n",
      "\n",
      "   not churn       0.97      0.84      0.90      1178\n",
      "       churn       0.51      0.86      0.64       230\n",
      "\n",
      "    accuracy                           0.84      1408\n",
      "   macro avg       0.74      0.85      0.77      1408\n",
      "weighted avg       0.89      0.84      0.86      1408\n",
      "\n"
     ]
    }
   ],
   "source": [
    "print(classification_report(y_test,y_pre, target_names=['not churn','churn']))"
   ]
  },
  {
   "cell_type": "markdown",
   "id": "761167a7",
   "metadata": {},
   "source": []
  },
  {
   "cell_type": "code",
   "execution_count": null,
   "id": "8b8f646e",
   "metadata": {},
   "outputs": [],
   "source": []
  }
 ],
 "metadata": {
  "kernelspec": {
   "display_name": "Python 3 (ipykernel)",
   "language": "python",
   "name": "python3"
  },
  "language_info": {
   "codemirror_mode": {
    "name": "ipython",
    "version": 3
   },
   "file_extension": ".py",
   "mimetype": "text/x-python",
   "name": "python",
   "nbconvert_exporter": "python",
   "pygments_lexer": "ipython3",
   "version": "3.9.7"
  }
 },
 "nbformat": 4,
 "nbformat_minor": 5
}
